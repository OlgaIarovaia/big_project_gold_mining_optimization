{
 "cells": [
  {
   "cell_type": "markdown",
   "id": "06271075",
   "metadata": {},
   "source": [
    "# Исходные данные"
   ]
  },
  {
   "cell_type": "markdown",
   "id": "08ed28f1",
   "metadata": {},
   "source": [
    "## Теория "
   ]
  },
  {
   "cell_type": "markdown",
   "id": "e93585a1",
   "metadata": {},
   "source": [
    "Даны данные с параметрами добычи и очистки. \n",
    "\n",
    "Технологический процесс золотодобычи:\n",
    "1. Флотация (обогащение)\n",
    "2. Очистка 1\n",
    "3. Очистка 2\n",
    "\n",
    "*Отвальные хвосты - остатки продукта с низкой концентрацией ценных металлов*"
   ]
  },
  {
   "cell_type": "markdown",
   "id": "e65a0568",
   "metadata": {},
   "source": [
    "**Технологический процесс**\n",
    "\n",
    " - Rougher feed — исходное сырье\n",
    " - Rougher additions (или reagent additions) — флотационные реагенты: Xanthate, Sulphate, Depressant\n",
    "    - Xanthate — ксантогенат (промотер, или активатор флотации);\n",
    "    - Sulphate — сульфат (на данном производстве сульфид натрия);\n",
    "    - Depressant — депрессант (силикат натрия).\n",
    "\n",
    " - Rougher process (англ. «грубый процесс») — флотация\n",
    " - Rougher tails — отвальные хвосты\n",
    " - Float banks — флотационная установка\n",
    " - Cleaner process — очистка\n",
    " - Rougher Au — черновой концентрат золота\n",
    " - Final Au — финальный концентрат золота\n",
    " \n",
    " \n",
    " **Параметры этапов**\n",
    " \n",
    " - air amount — объём воздуха\n",
    " - fluid levels — уровень жидкости\n",
    " - feed size — размер гранул сырья\n",
    " - feed rate — скорость подачи"
   ]
  },
  {
   "cell_type": "markdown",
   "id": "d3801052",
   "metadata": {},
   "source": [
    "## Формула эффективности обогащения "
   ]
  },
  {
   "cell_type": "markdown",
   "id": "f6de46cc",
   "metadata": {},
   "source": [
    "<img src='https://pictures.s3.yandex.net/resources/Recovery_1576238822.jpg'>"
   ]
  },
  {
   "cell_type": "markdown",
   "id": "6b66be07",
   "metadata": {},
   "source": [
    " - C — доля золота в концентрате после флотации/очистки;\n",
    " - F — доля золота в сырье/концентрате до флотации/очистки;\n",
    " - T — доля золота в отвальных хвостах после флотации/очистки."
   ]
  },
  {
   "cell_type": "markdown",
   "id": "530daf09",
   "metadata": {},
   "source": [
    "## Обозначения в данных"
   ]
  },
  {
   "cell_type": "markdown",
   "id": "312c74a8",
   "metadata": {},
   "source": [
    "Наименование признаков - \n",
    "**[этап].[тип_параметра].[название_параметра]**\n",
    "\n",
    "Пример: rougher.input.feed_ag\n",
    "\n",
    "Возможные значения для блока [этап]:\n",
    " - rougher — флотация\n",
    " - primary_cleaner — первичная очистка\n",
    " - secondary_cleaner — вторичная очистка\n",
    " - final — финальные характеристики\n",
    " \n",
    "Возможные значения для блока [тип_параметра]:\n",
    " - input — параметры сырья\n",
    " - output — параметры продукта\n",
    " - state — параметры, характеризующие текущее состояние этапа\n",
    " - calculation — расчётные характеристики"
   ]
  },
  {
   "cell_type": "markdown",
   "id": "f8c9a23a",
   "metadata": {},
   "source": [
    "# Постановка задачи"
   ]
  },
  {
   "cell_type": "markdown",
   "id": "53142ed7",
   "metadata": {},
   "source": [
    "Подготовить прототип модели машинного обучения для эффективной работы промышленных предприятий.\n",
    " - Модель должна предсказать коэффициент восстановления золота из золотосодержащей руды. \n",
    " - Модель поможет оптимизировать производство, чтобы не запускать предприятие с убыточными характеристиками."
   ]
  },
  {
   "cell_type": "markdown",
   "id": "6c0510e1",
   "metadata": {},
   "source": [
    "Ход работы:\n",
    "\n",
    " - Подготовить данные\n",
    " - Провести анализ данных\n",
    " - Построить и обучить модель."
   ]
  },
  {
   "cell_type": "markdown",
   "id": "b43f7f26",
   "metadata": {},
   "source": [
    "Конечная метрика качества — sMAPE (симметричное среднее абсолютное процентное отклонение) включит в себя эффективность обогащения чернового концентрата *rougher.output.recovery* и финального концентрата *final.output.recovery*"
   ]
  },
  {
   "cell_type": "markdown",
   "id": "1d336f64",
   "metadata": {},
   "source": [
    "<img src='https://pictures.s3.yandex.net/resources/smape_1576239058.jpg'>"
   ]
  },
  {
   "cell_type": "markdown",
   "id": "e0d6a51f",
   "metadata": {},
   "source": [
    "<img src='https://pictures.s3.yandex.net/resources/_smape_1576238814.jpg'>"
   ]
  },
  {
   "cell_type": "markdown",
   "id": "d4a0a223",
   "metadata": {},
   "source": [
    "# Обзор данных "
   ]
  },
  {
   "cell_type": "code",
   "execution_count": 1,
   "id": "589542b5",
   "metadata": {},
   "outputs": [],
   "source": [
    "# импорт библиотек\n",
    "\n",
    "import pandas as pd\n",
    "import matplotlib.pyplot as plt\n",
    "import numpy as np\n",
    "from sklearn.metrics import mean_absolute_error, make_scorer\n",
    "from sklearn.model_selection import train_test_split, cross_val_score, cross_val_predict, KFold, GridSearchCV\n",
    "from sklearn.linear_model import LinearRegression\n",
    "from sklearn.ensemble import RandomForestRegressor\n",
    "from sklearn.tree import DecisionTreeRegressor"
   ]
  },
  {
   "cell_type": "code",
   "execution_count": 2,
   "id": "620ffed0",
   "metadata": {},
   "outputs": [],
   "source": [
    "# открытие файлов\n",
    "\n",
    "try:\n",
    "    full_data = pd.read_csv('gold_recovery_full_new.csv')\n",
    "    train_data = pd.read_csv('gold_recovery_train_new.csv')\n",
    "    test_data = pd.read_csv('gold_recovery_test_new.csv')\n",
    "except:\n",
    "    full_data = pd.read_csv('https://code.s3.yandex.net/datasets/gold_recovery_full_new.csv')\n",
    "    train_data = pd.read_csv('https://code.s3.yandex.net/datasets/gold_recovery_train_new.csv')\n",
    "    test_data = pd.read_csv('https://code.s3.yandex.net/datasets/gold_recovery_test_new.csv')"
   ]
  },
  {
   "cell_type": "code",
   "execution_count": 3,
   "id": "d09a20bf",
   "metadata": {},
   "outputs": [
    {
     "data": {
      "text/html": [
       "<div>\n",
       "<style scoped>\n",
       "    .dataframe tbody tr th:only-of-type {\n",
       "        vertical-align: middle;\n",
       "    }\n",
       "\n",
       "    .dataframe tbody tr th {\n",
       "        vertical-align: top;\n",
       "    }\n",
       "\n",
       "    .dataframe thead th {\n",
       "        text-align: right;\n",
       "    }\n",
       "</style>\n",
       "<table border=\"1\" class=\"dataframe\">\n",
       "  <thead>\n",
       "    <tr style=\"text-align: right;\">\n",
       "      <th></th>\n",
       "      <th>0</th>\n",
       "      <th>1</th>\n",
       "      <th>2</th>\n",
       "      <th>3</th>\n",
       "      <th>4</th>\n",
       "    </tr>\n",
       "  </thead>\n",
       "  <tbody>\n",
       "    <tr>\n",
       "      <th>date</th>\n",
       "      <td>2016-01-15 00:00:00</td>\n",
       "      <td>2016-01-15 01:00:00</td>\n",
       "      <td>2016-01-15 02:00:00</td>\n",
       "      <td>2016-01-15 03:00:00</td>\n",
       "      <td>2016-01-15 04:00:00</td>\n",
       "    </tr>\n",
       "    <tr>\n",
       "      <th>final.output.concentrate_ag</th>\n",
       "      <td>6.055403</td>\n",
       "      <td>6.029369</td>\n",
       "      <td>6.055926</td>\n",
       "      <td>6.047977</td>\n",
       "      <td>6.148599</td>\n",
       "    </tr>\n",
       "    <tr>\n",
       "      <th>final.output.concentrate_pb</th>\n",
       "      <td>9.889648</td>\n",
       "      <td>9.968944</td>\n",
       "      <td>10.213995</td>\n",
       "      <td>9.977019</td>\n",
       "      <td>10.142511</td>\n",
       "    </tr>\n",
       "    <tr>\n",
       "      <th>final.output.concentrate_sol</th>\n",
       "      <td>5.507324</td>\n",
       "      <td>5.257781</td>\n",
       "      <td>5.383759</td>\n",
       "      <td>4.858634</td>\n",
       "      <td>4.939416</td>\n",
       "    </tr>\n",
       "    <tr>\n",
       "      <th>final.output.concentrate_au</th>\n",
       "      <td>42.19202</td>\n",
       "      <td>42.701629</td>\n",
       "      <td>42.657501</td>\n",
       "      <td>42.689819</td>\n",
       "      <td>42.774141</td>\n",
       "    </tr>\n",
       "    <tr>\n",
       "      <th>...</th>\n",
       "      <td>...</td>\n",
       "      <td>...</td>\n",
       "      <td>...</td>\n",
       "      <td>...</td>\n",
       "      <td>...</td>\n",
       "    </tr>\n",
       "    <tr>\n",
       "      <th>secondary_cleaner.state.floatbank5_a_level</th>\n",
       "      <td>-498.310211</td>\n",
       "      <td>-500.169983</td>\n",
       "      <td>-500.129135</td>\n",
       "      <td>-499.20164</td>\n",
       "      <td>-501.686727</td>\n",
       "    </tr>\n",
       "    <tr>\n",
       "      <th>secondary_cleaner.state.floatbank5_b_air</th>\n",
       "      <td>8.079666</td>\n",
       "      <td>7.984757</td>\n",
       "      <td>8.013877</td>\n",
       "      <td>7.977324</td>\n",
       "      <td>7.894242</td>\n",
       "    </tr>\n",
       "    <tr>\n",
       "      <th>secondary_cleaner.state.floatbank5_b_level</th>\n",
       "      <td>-500.470978</td>\n",
       "      <td>-500.582168</td>\n",
       "      <td>-500.517572</td>\n",
       "      <td>-500.255908</td>\n",
       "      <td>-500.356035</td>\n",
       "    </tr>\n",
       "    <tr>\n",
       "      <th>secondary_cleaner.state.floatbank6_a_air</th>\n",
       "      <td>14.151341</td>\n",
       "      <td>13.998353</td>\n",
       "      <td>14.028663</td>\n",
       "      <td>14.005551</td>\n",
       "      <td>13.996647</td>\n",
       "    </tr>\n",
       "    <tr>\n",
       "      <th>secondary_cleaner.state.floatbank6_a_level</th>\n",
       "      <td>-605.84198</td>\n",
       "      <td>-599.787184</td>\n",
       "      <td>-601.427363</td>\n",
       "      <td>-599.996129</td>\n",
       "      <td>-601.496691</td>\n",
       "    </tr>\n",
       "  </tbody>\n",
       "</table>\n",
       "<p>87 rows × 5 columns</p>\n",
       "</div>"
      ],
      "text/plain": [
       "                                                              0  \\\n",
       "date                                        2016-01-15 00:00:00   \n",
       "final.output.concentrate_ag                            6.055403   \n",
       "final.output.concentrate_pb                            9.889648   \n",
       "final.output.concentrate_sol                           5.507324   \n",
       "final.output.concentrate_au                            42.19202   \n",
       "...                                                         ...   \n",
       "secondary_cleaner.state.floatbank5_a_level          -498.310211   \n",
       "secondary_cleaner.state.floatbank5_b_air               8.079666   \n",
       "secondary_cleaner.state.floatbank5_b_level          -500.470978   \n",
       "secondary_cleaner.state.floatbank6_a_air              14.151341   \n",
       "secondary_cleaner.state.floatbank6_a_level           -605.84198   \n",
       "\n",
       "                                                              1  \\\n",
       "date                                        2016-01-15 01:00:00   \n",
       "final.output.concentrate_ag                            6.029369   \n",
       "final.output.concentrate_pb                            9.968944   \n",
       "final.output.concentrate_sol                           5.257781   \n",
       "final.output.concentrate_au                           42.701629   \n",
       "...                                                         ...   \n",
       "secondary_cleaner.state.floatbank5_a_level          -500.169983   \n",
       "secondary_cleaner.state.floatbank5_b_air               7.984757   \n",
       "secondary_cleaner.state.floatbank5_b_level          -500.582168   \n",
       "secondary_cleaner.state.floatbank6_a_air              13.998353   \n",
       "secondary_cleaner.state.floatbank6_a_level          -599.787184   \n",
       "\n",
       "                                                              2  \\\n",
       "date                                        2016-01-15 02:00:00   \n",
       "final.output.concentrate_ag                            6.055926   \n",
       "final.output.concentrate_pb                           10.213995   \n",
       "final.output.concentrate_sol                           5.383759   \n",
       "final.output.concentrate_au                           42.657501   \n",
       "...                                                         ...   \n",
       "secondary_cleaner.state.floatbank5_a_level          -500.129135   \n",
       "secondary_cleaner.state.floatbank5_b_air               8.013877   \n",
       "secondary_cleaner.state.floatbank5_b_level          -500.517572   \n",
       "secondary_cleaner.state.floatbank6_a_air              14.028663   \n",
       "secondary_cleaner.state.floatbank6_a_level          -601.427363   \n",
       "\n",
       "                                                              3  \\\n",
       "date                                        2016-01-15 03:00:00   \n",
       "final.output.concentrate_ag                            6.047977   \n",
       "final.output.concentrate_pb                            9.977019   \n",
       "final.output.concentrate_sol                           4.858634   \n",
       "final.output.concentrate_au                           42.689819   \n",
       "...                                                         ...   \n",
       "secondary_cleaner.state.floatbank5_a_level           -499.20164   \n",
       "secondary_cleaner.state.floatbank5_b_air               7.977324   \n",
       "secondary_cleaner.state.floatbank5_b_level          -500.255908   \n",
       "secondary_cleaner.state.floatbank6_a_air              14.005551   \n",
       "secondary_cleaner.state.floatbank6_a_level          -599.996129   \n",
       "\n",
       "                                                              4  \n",
       "date                                        2016-01-15 04:00:00  \n",
       "final.output.concentrate_ag                            6.148599  \n",
       "final.output.concentrate_pb                           10.142511  \n",
       "final.output.concentrate_sol                           4.939416  \n",
       "final.output.concentrate_au                           42.774141  \n",
       "...                                                         ...  \n",
       "secondary_cleaner.state.floatbank5_a_level          -501.686727  \n",
       "secondary_cleaner.state.floatbank5_b_air               7.894242  \n",
       "secondary_cleaner.state.floatbank5_b_level          -500.356035  \n",
       "secondary_cleaner.state.floatbank6_a_air              13.996647  \n",
       "secondary_cleaner.state.floatbank6_a_level          -601.496691  \n",
       "\n",
       "[87 rows x 5 columns]"
      ]
     },
     "execution_count": 3,
     "metadata": {},
     "output_type": "execute_result"
    }
   ],
   "source": [
    "# обзор данных\n",
    "\n",
    "full_data.head().T"
   ]
  },
  {
   "cell_type": "code",
   "execution_count": 4,
   "id": "32e6b80f",
   "metadata": {},
   "outputs": [
    {
     "name": "stdout",
     "output_type": "stream",
     "text": [
      "Размерность датасетов\n",
      "\n",
      "Полный набор данных (19439, 87)\n",
      "Обучающий набор данных (14149, 87)\n",
      "Тестовый набор данных (5290, 53)\n"
     ]
    }
   ],
   "source": [
    "print('Размерность датасетов\\n')\n",
    "print('Полный набор данных', full_data.shape)\n",
    "print('Обучающий набор данных', train_data.shape)\n",
    "print('Тестовый набор данных', test_data.shape)"
   ]
  },
  {
   "cell_type": "markdown",
   "id": "873b65f8",
   "metadata": {},
   "source": [
    "В тестовом наборе данных колонок почти в 2 раза меньше, чем в полном и обучающем наборах.\n",
    "Посмотрим на все колонки данных"
   ]
  },
  {
   "cell_type": "code",
   "execution_count": 5,
   "id": "103314c9",
   "metadata": {},
   "outputs": [
    {
     "name": "stdout",
     "output_type": "stream",
     "text": [
      "<class 'pandas.core.frame.DataFrame'>\n",
      "RangeIndex: 19439 entries, 0 to 19438\n",
      "Data columns (total 87 columns):\n",
      " #   Column                                              Non-Null Count  Dtype  \n",
      "---  ------                                              --------------  -----  \n",
      " 0   date                                                19439 non-null  object \n",
      " 1   final.output.concentrate_ag                         19438 non-null  float64\n",
      " 2   final.output.concentrate_pb                         19438 non-null  float64\n",
      " 3   final.output.concentrate_sol                        19228 non-null  float64\n",
      " 4   final.output.concentrate_au                         19439 non-null  float64\n",
      " 5   final.output.recovery                               19439 non-null  float64\n",
      " 6   final.output.tail_ag                                19438 non-null  float64\n",
      " 7   final.output.tail_pb                                19338 non-null  float64\n",
      " 8   final.output.tail_sol                               19433 non-null  float64\n",
      " 9   final.output.tail_au                                19439 non-null  float64\n",
      " 10  primary_cleaner.input.sulfate                       19415 non-null  float64\n",
      " 11  primary_cleaner.input.depressant                    19402 non-null  float64\n",
      " 12  primary_cleaner.input.feed_size                     19439 non-null  float64\n",
      " 13  primary_cleaner.input.xanthate                      19335 non-null  float64\n",
      " 14  primary_cleaner.output.concentrate_ag               19439 non-null  float64\n",
      " 15  primary_cleaner.output.concentrate_pb               19323 non-null  float64\n",
      " 16  primary_cleaner.output.concentrate_sol              19069 non-null  float64\n",
      " 17  primary_cleaner.output.concentrate_au               19439 non-null  float64\n",
      " 18  primary_cleaner.output.tail_ag                      19435 non-null  float64\n",
      " 19  primary_cleaner.output.tail_pb                      19418 non-null  float64\n",
      " 20  primary_cleaner.output.tail_sol                     19377 non-null  float64\n",
      " 21  primary_cleaner.output.tail_au                      19439 non-null  float64\n",
      " 22  primary_cleaner.state.floatbank8_a_air              19435 non-null  float64\n",
      " 23  primary_cleaner.state.floatbank8_a_level            19438 non-null  float64\n",
      " 24  primary_cleaner.state.floatbank8_b_air              19435 non-null  float64\n",
      " 25  primary_cleaner.state.floatbank8_b_level            19438 non-null  float64\n",
      " 26  primary_cleaner.state.floatbank8_c_air              19437 non-null  float64\n",
      " 27  primary_cleaner.state.floatbank8_c_level            19438 non-null  float64\n",
      " 28  primary_cleaner.state.floatbank8_d_air              19436 non-null  float64\n",
      " 29  primary_cleaner.state.floatbank8_d_level            19438 non-null  float64\n",
      " 30  rougher.calculation.sulfate_to_au_concentrate       19437 non-null  float64\n",
      " 31  rougher.calculation.floatbank10_sulfate_to_au_feed  19437 non-null  float64\n",
      " 32  rougher.calculation.floatbank11_sulfate_to_au_feed  19437 non-null  float64\n",
      " 33  rougher.calculation.au_pb_ratio                     19439 non-null  float64\n",
      " 34  rougher.input.feed_ag                               19439 non-null  float64\n",
      " 35  rougher.input.feed_pb                               19339 non-null  float64\n",
      " 36  rougher.input.feed_rate                             19428 non-null  float64\n",
      " 37  rougher.input.feed_size                             19294 non-null  float64\n",
      " 38  rougher.input.feed_sol                              19340 non-null  float64\n",
      " 39  rougher.input.feed_au                               19439 non-null  float64\n",
      " 40  rougher.input.floatbank10_sulfate                   19405 non-null  float64\n",
      " 41  rougher.input.floatbank10_xanthate                  19431 non-null  float64\n",
      " 42  rougher.input.floatbank11_sulfate                   19395 non-null  float64\n",
      " 43  rougher.input.floatbank11_xanthate                  18986 non-null  float64\n",
      " 44  rougher.output.concentrate_ag                       19439 non-null  float64\n",
      " 45  rougher.output.concentrate_pb                       19439 non-null  float64\n",
      " 46  rougher.output.concentrate_sol                      19416 non-null  float64\n",
      " 47  rougher.output.concentrate_au                       19439 non-null  float64\n",
      " 48  rougher.output.recovery                             19439 non-null  float64\n",
      " 49  rougher.output.tail_ag                              19438 non-null  float64\n",
      " 50  rougher.output.tail_pb                              19439 non-null  float64\n",
      " 51  rougher.output.tail_sol                             19439 non-null  float64\n",
      " 52  rougher.output.tail_au                              19439 non-null  float64\n",
      " 53  rougher.state.floatbank10_a_air                     19438 non-null  float64\n",
      " 54  rougher.state.floatbank10_a_level                   19438 non-null  float64\n",
      " 55  rougher.state.floatbank10_b_air                     19438 non-null  float64\n",
      " 56  rougher.state.floatbank10_b_level                   19438 non-null  float64\n",
      " 57  rougher.state.floatbank10_c_air                     19438 non-null  float64\n",
      " 58  rougher.state.floatbank10_c_level                   19438 non-null  float64\n",
      " 59  rougher.state.floatbank10_d_air                     19439 non-null  float64\n",
      " 60  rougher.state.floatbank10_d_level                   19439 non-null  float64\n",
      " 61  rougher.state.floatbank10_e_air                     19003 non-null  float64\n",
      " 62  rougher.state.floatbank10_e_level                   19439 non-null  float64\n",
      " 63  rougher.state.floatbank10_f_air                     19439 non-null  float64\n",
      " 64  rougher.state.floatbank10_f_level                   19439 non-null  float64\n",
      " 65  secondary_cleaner.output.tail_ag                    19437 non-null  float64\n",
      " 66  secondary_cleaner.output.tail_pb                    19427 non-null  float64\n",
      " 67  secondary_cleaner.output.tail_sol                   17691 non-null  float64\n",
      " 68  secondary_cleaner.output.tail_au                    19439 non-null  float64\n",
      " 69  secondary_cleaner.state.floatbank2_a_air            19219 non-null  float64\n",
      " 70  secondary_cleaner.state.floatbank2_a_level          19438 non-null  float64\n",
      " 71  secondary_cleaner.state.floatbank2_b_air            19416 non-null  float64\n",
      " 72  secondary_cleaner.state.floatbank2_b_level          19438 non-null  float64\n",
      " 73  secondary_cleaner.state.floatbank3_a_air            19426 non-null  float64\n",
      " 74  secondary_cleaner.state.floatbank3_a_level          19438 non-null  float64\n",
      " 75  secondary_cleaner.state.floatbank3_b_air            19438 non-null  float64\n",
      " 76  secondary_cleaner.state.floatbank3_b_level          19438 non-null  float64\n",
      " 77  secondary_cleaner.state.floatbank4_a_air            19433 non-null  float64\n",
      " 78  secondary_cleaner.state.floatbank4_a_level          19438 non-null  float64\n",
      " 79  secondary_cleaner.state.floatbank4_b_air            19438 non-null  float64\n",
      " 80  secondary_cleaner.state.floatbank4_b_level          19438 non-null  float64\n",
      " 81  secondary_cleaner.state.floatbank5_a_air            19438 non-null  float64\n",
      " 82  secondary_cleaner.state.floatbank5_a_level          19438 non-null  float64\n",
      " 83  secondary_cleaner.state.floatbank5_b_air            19438 non-null  float64\n",
      " 84  secondary_cleaner.state.floatbank5_b_level          19438 non-null  float64\n",
      " 85  secondary_cleaner.state.floatbank6_a_air            19437 non-null  float64\n",
      " 86  secondary_cleaner.state.floatbank6_a_level          19438 non-null  float64\n",
      "dtypes: float64(86), object(1)\n",
      "memory usage: 12.9+ MB\n"
     ]
    }
   ],
   "source": [
    "full_data.info()"
   ]
  },
  {
   "cell_type": "code",
   "execution_count": 6,
   "id": "4b8780cc",
   "metadata": {},
   "outputs": [
    {
     "name": "stdout",
     "output_type": "stream",
     "text": [
      "<class 'pandas.core.frame.DataFrame'>\n",
      "RangeIndex: 5290 entries, 0 to 5289\n",
      "Data columns (total 53 columns):\n",
      " #   Column                                      Non-Null Count  Dtype  \n",
      "---  ------                                      --------------  -----  \n",
      " 0   date                                        5290 non-null   object \n",
      " 1   primary_cleaner.input.sulfate               5286 non-null   float64\n",
      " 2   primary_cleaner.input.depressant            5285 non-null   float64\n",
      " 3   primary_cleaner.input.feed_size             5290 non-null   float64\n",
      " 4   primary_cleaner.input.xanthate              5286 non-null   float64\n",
      " 5   primary_cleaner.state.floatbank8_a_air      5290 non-null   float64\n",
      " 6   primary_cleaner.state.floatbank8_a_level    5290 non-null   float64\n",
      " 7   primary_cleaner.state.floatbank8_b_air      5290 non-null   float64\n",
      " 8   primary_cleaner.state.floatbank8_b_level    5290 non-null   float64\n",
      " 9   primary_cleaner.state.floatbank8_c_air      5290 non-null   float64\n",
      " 10  primary_cleaner.state.floatbank8_c_level    5290 non-null   float64\n",
      " 11  primary_cleaner.state.floatbank8_d_air      5290 non-null   float64\n",
      " 12  primary_cleaner.state.floatbank8_d_level    5290 non-null   float64\n",
      " 13  rougher.input.feed_ag                       5290 non-null   float64\n",
      " 14  rougher.input.feed_pb                       5290 non-null   float64\n",
      " 15  rougher.input.feed_rate                     5287 non-null   float64\n",
      " 16  rougher.input.feed_size                     5289 non-null   float64\n",
      " 17  rougher.input.feed_sol                      5269 non-null   float64\n",
      " 18  rougher.input.feed_au                       5290 non-null   float64\n",
      " 19  rougher.input.floatbank10_sulfate           5285 non-null   float64\n",
      " 20  rougher.input.floatbank10_xanthate          5290 non-null   float64\n",
      " 21  rougher.input.floatbank11_sulfate           5282 non-null   float64\n",
      " 22  rougher.input.floatbank11_xanthate          5265 non-null   float64\n",
      " 23  rougher.state.floatbank10_a_air             5290 non-null   float64\n",
      " 24  rougher.state.floatbank10_a_level           5290 non-null   float64\n",
      " 25  rougher.state.floatbank10_b_air             5290 non-null   float64\n",
      " 26  rougher.state.floatbank10_b_level           5290 non-null   float64\n",
      " 27  rougher.state.floatbank10_c_air             5290 non-null   float64\n",
      " 28  rougher.state.floatbank10_c_level           5290 non-null   float64\n",
      " 29  rougher.state.floatbank10_d_air             5290 non-null   float64\n",
      " 30  rougher.state.floatbank10_d_level           5290 non-null   float64\n",
      " 31  rougher.state.floatbank10_e_air             5290 non-null   float64\n",
      " 32  rougher.state.floatbank10_e_level           5290 non-null   float64\n",
      " 33  rougher.state.floatbank10_f_air             5290 non-null   float64\n",
      " 34  rougher.state.floatbank10_f_level           5290 non-null   float64\n",
      " 35  secondary_cleaner.state.floatbank2_a_air    5287 non-null   float64\n",
      " 36  secondary_cleaner.state.floatbank2_a_level  5290 non-null   float64\n",
      " 37  secondary_cleaner.state.floatbank2_b_air    5288 non-null   float64\n",
      " 38  secondary_cleaner.state.floatbank2_b_level  5290 non-null   float64\n",
      " 39  secondary_cleaner.state.floatbank3_a_air    5281 non-null   float64\n",
      " 40  secondary_cleaner.state.floatbank3_a_level  5290 non-null   float64\n",
      " 41  secondary_cleaner.state.floatbank3_b_air    5290 non-null   float64\n",
      " 42  secondary_cleaner.state.floatbank3_b_level  5290 non-null   float64\n",
      " 43  secondary_cleaner.state.floatbank4_a_air    5290 non-null   float64\n",
      " 44  secondary_cleaner.state.floatbank4_a_level  5290 non-null   float64\n",
      " 45  secondary_cleaner.state.floatbank4_b_air    5290 non-null   float64\n",
      " 46  secondary_cleaner.state.floatbank4_b_level  5290 non-null   float64\n",
      " 47  secondary_cleaner.state.floatbank5_a_air    5290 non-null   float64\n",
      " 48  secondary_cleaner.state.floatbank5_a_level  5290 non-null   float64\n",
      " 49  secondary_cleaner.state.floatbank5_b_air    5290 non-null   float64\n",
      " 50  secondary_cleaner.state.floatbank5_b_level  5290 non-null   float64\n",
      " 51  secondary_cleaner.state.floatbank6_a_air    5290 non-null   float64\n",
      " 52  secondary_cleaner.state.floatbank6_a_level  5290 non-null   float64\n",
      "dtypes: float64(52), object(1)\n",
      "memory usage: 2.1+ MB\n"
     ]
    }
   ],
   "source": [
    "test_data.info()"
   ]
  },
  {
   "cell_type": "markdown",
   "id": "2c38078e",
   "metadata": {},
   "source": [
    "<div class=\"alert alert-block alert-warning\">\n",
    "\n",
    "В тестовом наборе данных отсутствуют финальные данные и данные с параметрами продукта - скорее всего, они в совокупности являются нашим целевым признаком, либо прямо коррелируют с ним"
   ]
  },
  {
   "cell_type": "markdown",
   "id": "e18ac034",
   "metadata": {},
   "source": [
    "## Корреляция "
   ]
  },
  {
   "cell_type": "code",
   "execution_count": 7,
   "id": "d4282b67",
   "metadata": {},
   "outputs": [
    {
     "data": {
      "text/plain": [
       "final.output.recovery                 1.000000\n",
       "primary_cleaner.input.sulfate         0.366954\n",
       "rougher.input.floatbank11_xanthate    0.328231\n",
       "rougher.input.floatbank10_xanthate    0.328066\n",
       "rougher.output.recovery               0.327059\n",
       "                                        ...   \n",
       "rougher.output.tail_au               -0.313320\n",
       "rougher.output.tail_pb               -0.317056\n",
       "secondary_cleaner.output.tail_au     -0.334696\n",
       "primary_cleaner.output.tail_au       -0.391106\n",
       "final.output.tail_au                 -0.409200\n",
       "Name: final.output.recovery, Length: 86, dtype: float64"
      ]
     },
     "execution_count": 7,
     "metadata": {},
     "output_type": "execute_result"
    }
   ],
   "source": [
    "# посмотрим на корреляцию важного целевого признака - общей эффективности\n",
    "# выведем их в порядке убывания\n",
    "    \n",
    "full_data.corr()['final.output.recovery'].sort_values(ascending=False)"
   ]
  },
  {
   "cell_type": "markdown",
   "id": "6a9c5bae",
   "metadata": {},
   "source": [
    "Явной корреляции с целевым признаком нет. Посмотрим на корреляцию обучающих признаков из тестового набора данных.\n",
    "\n",
    "Так как признаков много, напишем функцию, которая в конечном счете вернет нам список самых коррелирующих признаков"
   ]
  },
  {
   "cell_type": "code",
   "execution_count": 8,
   "id": "8ae511ac",
   "metadata": {},
   "outputs": [],
   "source": [
    "def corr_list(data, coefficient): # функция примет датасет и нужный нам коэффициент корреляции, который нельзя превышать\n",
    "    \n",
    "    cor = [] # список списков, в котором будут храниться названия коррелирующих колонок  \n",
    "    for row in data.corr().index:\n",
    "        l = data.corr().loc[data.corr()[row]>abs(coefficient), row]   \n",
    "        l = l.drop([row]) # исключим колонку с тем же названием, по которой сейчас итерируемся (их корреляция 1)\n",
    "        l = list(filter(None, l.index))  # фильтрация без функции уберет все пустые значения\n",
    "        cor.append(l) # добавляем полученный список названий корерилующих колонок\n",
    "        \n",
    "    # список списков преобразуем в один список, чтобы затем убрать дублирующие значения\n",
    "    cor_list = [] # общий список коррелирующих колонок \n",
    "    for value in cor:\n",
    "        cor_list.extend(value)\n",
    "        \n",
    "    # пройдем циклом по всем значениям полученного списка и сохраним только уникальные\n",
    "    final_cor = [] # список коррелирующих колонок, которые надо будет удалить\n",
    "    for value in cor_list:\n",
    "        if value not in final_cor:\n",
    "            final_cor.append(value) \n",
    "            \n",
    "    return final_cor       "
   ]
  },
  {
   "cell_type": "code",
   "execution_count": 9,
   "id": "5c814d3e",
   "metadata": {},
   "outputs": [
    {
     "name": "stdout",
     "output_type": "stream",
     "text": [
      "Кол-во коррелирующих признаков обучающей выборки выше 0.95 по модулю - 10 из 87\n"
     ]
    }
   ],
   "source": [
    "# выведем список коррелирующих колонок обучающего набора данных\n",
    "\n",
    "train_cor = corr_list(train_data, 0.95)\n",
    "print('Кол-во коррелирующих признаков обучающей выборки выше 0.95 по модулю -', len(train_cor), 'из', train_data.shape[1])"
   ]
  },
  {
   "cell_type": "code",
   "execution_count": 10,
   "id": "149df6f6",
   "metadata": {},
   "outputs": [
    {
     "name": "stdout",
     "output_type": "stream",
     "text": [
      "Кол-во коррелирующих признаков всех данных выше 0.95 по модулю - 9 из 87\n"
     ]
    }
   ],
   "source": [
    "# выведем список коррелирующих колонок полного набора данных\n",
    "\n",
    "full_cor = corr_list(full_data, 0.95)\n",
    "print('Кол-во коррелирующих признаков всех данных выше 0.95 по модулю -', len(full_cor), 'из', full_data.shape[1])"
   ]
  },
  {
   "cell_type": "code",
   "execution_count": 11,
   "id": "25507a7f",
   "metadata": {},
   "outputs": [
    {
     "name": "stdout",
     "output_type": "stream",
     "text": [
      "Кол-во коррелирующих признаков всех данных выше 0.95 по модулю - 11 из 53\n"
     ]
    }
   ],
   "source": [
    "# выведем список коррелирующих колонок тестового набора данных\n",
    "\n",
    "test_cor = corr_list(test_data, 0.95)\n",
    "print('Кол-во коррелирующих признаков всех данных выше 0.95 по модулю -', len(test_cor), 'из', test_data.shape[1])"
   ]
  },
  {
   "cell_type": "markdown",
   "id": "f700694a",
   "metadata": {},
   "source": [
    "Заметно, что в тестовом наборе данных коррелирующих колонок больше - выведем их"
   ]
  },
  {
   "cell_type": "code",
   "execution_count": 12,
   "id": "fe806ee7",
   "metadata": {},
   "outputs": [
    {
     "name": "stdout",
     "output_type": "stream",
     "text": [
      "primary_cleaner.state.floatbank8_b_air\n",
      "primary_cleaner.state.floatbank8_d_air\n",
      "primary_cleaner.state.floatbank8_a_air\n",
      "rougher.state.floatbank10_c_air\n",
      "rougher.state.floatbank10_b_air\n",
      "rougher.state.floatbank10_d_air\n"
     ]
    }
   ],
   "source": [
    "# оценим, какие колонки из коррелирующих есть в тестовом наборе, но нет в обучающем\n",
    "\n",
    "for row in test_cor:\n",
    "    if row not in train_cor:\n",
    "        print(row)"
   ]
  },
  {
   "cell_type": "markdown",
   "id": "8ecebf19",
   "metadata": {},
   "source": [
    "<div class=\"alert alert-block alert-warning\">\n",
    "    \n",
    "В тестовом наборе данных выделились дополнительные коррелирующие колонки (их больше, чем в обучающем наборе) - однако корреляция составляет почти единицу (0.95) - поэтому в дальнейшем эти колонки придется удалить для корректной работы модели."
   ]
  },
  {
   "cell_type": "markdown",
   "id": "19214aa3",
   "metadata": {},
   "source": [
    "<div class=\"alert alert-block alert-info\">\n",
    "\n",
    "**Итог**\n",
    "\n",
    "Проведен первичный обзор данных и оценка корреляции.\n",
    "\n",
    "Кроме того,\n",
    "\n",
    " - Необходимо проверить расчет эффективности обогащения - т.к это одно из главных значений для расчета итоговой метрики качества\n",
    " \n",
    " - Необходима работа с пропусками\n",
    " - Необходимо проверить дубликаты\n",
    " \n",
    " - Необходимо исключить колонки, которые будут мешать работе модели"
   ]
  },
  {
   "cell_type": "markdown",
   "id": "385aedd5",
   "metadata": {},
   "source": [
    "# Расчет эффективности обогащения"
   ]
  },
  {
   "cell_type": "code",
   "execution_count": 13,
   "id": "e30b77e2",
   "metadata": {},
   "outputs": [
    {
     "data": {
      "text/plain": [
       "0        87.107763\n",
       "1        86.843261\n",
       "2        86.842308\n",
       "3        87.226430\n",
       "4        86.688794\n",
       "           ...    \n",
       "14144    89.574376\n",
       "14145    87.724007\n",
       "14146    88.890579\n",
       "14147    89.858126\n",
       "14148    89.514960\n",
       "Name: rougher.output.recovery, Length: 14149, dtype: float64"
      ]
     },
     "execution_count": 13,
     "metadata": {},
     "output_type": "execute_result"
    }
   ],
   "source": [
    "# эффективность обогащения находится в колонке rougher.output.recovery\n",
    "\n",
    "train_data['rougher.output.recovery']"
   ]
  },
  {
   "cell_type": "markdown",
   "id": "e9a706b4",
   "metadata": {},
   "source": [
    "Для рассчета эффективности нам необходимы доли золота концентрата до и после очистки, а также в хвостах.\n",
    "\n",
    "Рассчитаем эффективность для обучающей выборки."
   ]
  },
  {
   "cell_type": "markdown",
   "id": "ef519203",
   "metadata": {},
   "source": [
    "Формула расчета выглядит как **C(F-T) / F(C-T)**"
   ]
  },
  {
   "cell_type": "markdown",
   "id": "ce05465b",
   "metadata": {},
   "source": [
    " - C - ['rougher.output.concentrate_au'] *доля золота в концентрате после флотации*\n",
    " - F - ['rougher.input.feed_au'] *доля золота в сырье/концентрате до флотации*\n",
    " - T - ['rougher.output.tail_au'] *доля золота в отвальных хвостах после флотации*"
   ]
  },
  {
   "cell_type": "code",
   "execution_count": 14,
   "id": "c8134858",
   "metadata": {},
   "outputs": [],
   "source": [
    "# напишем функцию для упрощения работы\n",
    "\n",
    "def recovery(C,F,T):\n",
    "    rec = (C*(F-T)) / (F*(C-T))\n",
    "    return rec*100"
   ]
  },
  {
   "cell_type": "code",
   "execution_count": 15,
   "id": "1093d901",
   "metadata": {},
   "outputs": [],
   "source": [
    "# вычислим эффективность очистки для обучающей выборки\n",
    "\n",
    "train_rec = recovery(train_data['rougher.output.concentrate_au'], \n",
    "                     train_data['rougher.input.feed_au'], \n",
    "                     train_data['rougher.output.tail_au'])"
   ]
  },
  {
   "cell_type": "code",
   "execution_count": 16,
   "id": "506c6aec",
   "metadata": {},
   "outputs": [
    {
     "name": "stdout",
     "output_type": "stream",
     "text": [
      "Медиана эффективности обучающей выборки - 85.2994620986978\n",
      "Медиана эффективности дополнительных вычислений - 85.29946209869779\n",
      "\n",
      "Статистики обучащей выборки\n",
      " count    14149.000000\n",
      "mean        82.704502\n",
      "std         14.479156\n",
      "min          0.000000\n",
      "25%         79.993067\n",
      "50%         85.299462\n",
      "75%         90.165021\n",
      "max        100.000000\n",
      "Name: rougher.output.recovery, dtype: float64\n",
      "\n",
      "Статистики дополнительных вычислений\n",
      " count    14149.000000\n",
      "mean        82.704502\n",
      "std         14.479156\n",
      "min         -0.000000\n",
      "25%         79.993067\n",
      "50%         85.299462\n",
      "75%         90.165021\n",
      "max        100.000000\n",
      "dtype: float64\n"
     ]
    }
   ],
   "source": [
    "# сравним наши вычисления с колонкой rougher.output.recovery\n",
    "\n",
    "print('Медиана эффективности обучающей выборки -', train_data['rougher.output.recovery'].median())\n",
    "print('Медиана эффективности дополнительных вычислений -', train_rec.median())\n",
    "\n",
    "print('\\nСтатистики обучащей выборки\\n', train_data['rougher.output.recovery'].describe())\n",
    "print('\\nСтатистики дополнительных вычислений\\n', train_rec.describe())"
   ]
  },
  {
   "cell_type": "code",
   "execution_count": 17,
   "id": "965a2880",
   "metadata": {},
   "outputs": [
    {
     "name": "stdout",
     "output_type": "stream",
     "text": [
      "Средняя абсолютная ошибка - 9.73512347450521e-15\n",
      "Целочисленный формат 0\n"
     ]
    }
   ],
   "source": [
    "# вычислим среднюю абсолютную ошибку MAE\n",
    "\n",
    "mae = mean_absolute_error(train_data['rougher.output.recovery'], train_rec)\n",
    "print('Средняя абсолютная ошибка -', mae)\n",
    "print('Целочисленный формат', int(mae))"
   ]
  },
  {
   "cell_type": "markdown",
   "id": "848ed3dc",
   "metadata": {},
   "source": [
    "<div class=\"alert alert-block alert-info\">\n",
    "\n",
    "**Вывод** \n",
    "\n",
    "Эффективность расчитана правильно - медиана и статистики равны (погрешность минимальна); средняя абсолютная ошибка также минмальна (формально равна нулю)"
   ]
  },
  {
   "cell_type": "markdown",
   "id": "3cc2c225",
   "metadata": {},
   "source": [
    "# Предобработка"
   ]
  },
  {
   "cell_type": "markdown",
   "id": "a06e7084",
   "metadata": {},
   "source": [
    " - Необходимо исключить колонки, мешающие работе модели\n",
    " - Необходимо проверить дубликаты\n",
    " - Необходима работа с пропусками\n",
    " - Для работы регрессии необходимо масштабирование признаков"
   ]
  },
  {
   "cell_type": "markdown",
   "id": "80eaa607",
   "metadata": {},
   "source": [
    "## Полный набор данных"
   ]
  },
  {
   "cell_type": "code",
   "execution_count": 18,
   "id": "d85b9545",
   "metadata": {},
   "outputs": [],
   "source": [
    "# изменим формат даты на datetime\n",
    "\n",
    "full_data['date'] = pd.to_datetime(full_data['date'], format='%Y-%m-%dT%H:%M:%S')"
   ]
  },
  {
   "cell_type": "code",
   "execution_count": 19,
   "id": "ad9928c7",
   "metadata": {},
   "outputs": [
    {
     "data": {
      "text/plain": [
       "0"
      ]
     },
     "execution_count": 19,
     "metadata": {},
     "output_type": "execute_result"
    }
   ],
   "source": [
    "# проверим полные дубликаты\n",
    "\n",
    "full_data.duplicated().sum()"
   ]
  },
  {
   "cell_type": "code",
   "execution_count": 20,
   "id": "c8c4a134",
   "metadata": {},
   "outputs": [
    {
     "name": "stdout",
     "output_type": "stream",
     "text": [
      "0\n"
     ]
    }
   ],
   "source": [
    "# неявные дубликаты проверим по колонке даты - если они совпадают, то перед нами дубликат\n",
    "# если проход по колонке date вернет нам True, увеличим счетчик дубликатов на 1\n",
    "\n",
    "count=0\n",
    "for d in full_data.duplicated(subset=['date'], keep=False):\n",
    "    if d == True:\n",
    "        count+=1\n",
    "        \n",
    "print(count)        "
   ]
  },
  {
   "cell_type": "code",
   "execution_count": 21,
   "id": "a461b807",
   "metadata": {},
   "outputs": [],
   "source": [
    "# удалим коррелирующие колонки, список которых ранее получили [full_cor]\n",
    "\n",
    "full_data = full_data.drop(columns=full_cor, axis=1)"
   ]
  },
  {
   "cell_type": "code",
   "execution_count": 22,
   "id": "3751fcbe",
   "metadata": {},
   "outputs": [
    {
     "data": {
      "text/plain": [
       "date                                            0\n",
       "final.output.concentrate_ag                     1\n",
       "final.output.concentrate_pb                     1\n",
       "final.output.concentrate_sol                  211\n",
       "final.output.concentrate_au                     0\n",
       "                                             ... \n",
       "secondary_cleaner.state.floatbank5_a_level      1\n",
       "secondary_cleaner.state.floatbank5_b_air        1\n",
       "secondary_cleaner.state.floatbank5_b_level      1\n",
       "secondary_cleaner.state.floatbank6_a_air        2\n",
       "secondary_cleaner.state.floatbank6_a_level      1\n",
       "Length: 78, dtype: int64"
      ]
     },
     "execution_count": 22,
     "metadata": {},
     "output_type": "execute_result"
    }
   ],
   "source": [
    "# пропуски в данных\n",
    "\n",
    "full_data.isna().sum()"
   ]
  },
  {
   "cell_type": "markdown",
   "id": "df40be90",
   "metadata": {},
   "source": [
    "В элементе sol самое большое кол-во пропусков в совокупности - особенно после вторичной очистки. Для нас он не является значимым, поэтому колонки с ним также можно удалить."
   ]
  },
  {
   "cell_type": "code",
   "execution_count": 23,
   "id": "b2102770",
   "metadata": {},
   "outputs": [],
   "source": [
    "# удаляем колонки с элементом sol\n",
    "\n",
    "sol = ['final.output.concentrate_sol',\n",
    "       'final.output.tail_sol',\n",
    "       'primary_cleaner.output.concentrate_sol',\n",
    "       'rougher.input.feed_sol',\n",
    "       'rougher.output.tail_sol',\n",
    "       'secondary_cleaner.output.tail_sol']\n",
    "\n",
    "full_data = full_data.drop(columns=sol, axis=1)"
   ]
  },
  {
   "cell_type": "code",
   "execution_count": 24,
   "id": "e563db31",
   "metadata": {},
   "outputs": [],
   "source": [
    "# остальные пропуски заполним предудущим значением - т.к все данные индетированы по дате и времени\n",
    "# напишем функцию для ее дальшейшего применения к оставшимся датасетам\n",
    "\n",
    "def fill_prev(data):\n",
    "    full_column = list(data.iloc[:0])         # сохраним в список все колонки датасета\n",
    "    for column in full_column:                # циклом пройдем по каждой колонке и заполним пропуски в ней предыдущим значением \n",
    "        data[column].fillna(method='ffill', inplace=True)                 \n",
    "    return data    "
   ]
  },
  {
   "cell_type": "code",
   "execution_count": 25,
   "id": "09f174af",
   "metadata": {},
   "outputs": [],
   "source": [
    "full_data = fill_prev(full_data)"
   ]
  },
  {
   "cell_type": "code",
   "execution_count": 26,
   "id": "127efcb3",
   "metadata": {},
   "outputs": [
    {
     "data": {
      "text/plain": [
       "date                                          0\n",
       "final.output.concentrate_ag                   0\n",
       "final.output.concentrate_pb                   0\n",
       "final.output.concentrate_au                   0\n",
       "final.output.recovery                         0\n",
       "                                             ..\n",
       "secondary_cleaner.state.floatbank5_a_level    0\n",
       "secondary_cleaner.state.floatbank5_b_air      0\n",
       "secondary_cleaner.state.floatbank5_b_level    0\n",
       "secondary_cleaner.state.floatbank6_a_air      0\n",
       "secondary_cleaner.state.floatbank6_a_level    0\n",
       "Length: 72, dtype: int64"
      ]
     },
     "execution_count": 26,
     "metadata": {},
     "output_type": "execute_result"
    }
   ],
   "source": [
    "# проверим датасет на наличие пропусков\n",
    "\n",
    "full_data.isna().sum()"
   ]
  },
  {
   "cell_type": "code",
   "execution_count": 27,
   "id": "c03a4c3f",
   "metadata": {},
   "outputs": [
    {
     "name": "stdout",
     "output_type": "stream",
     "text": [
      "Окончательный размер полного набора данных - (19439, 72)\n"
     ]
    }
   ],
   "source": [
    "print('Окончательный размер полного набора данных -', full_data.shape)"
   ]
  },
  {
   "cell_type": "markdown",
   "id": "84a3abd7",
   "metadata": {},
   "source": [
    "Повторим те же действия для двух оставшихся датасетов"
   ]
  },
  {
   "cell_type": "markdown",
   "id": "34160bb9",
   "metadata": {},
   "source": [
    "## Обучающая выборка "
   ]
  },
  {
   "cell_type": "code",
   "execution_count": 28,
   "id": "87c6d30a",
   "metadata": {},
   "outputs": [
    {
     "data": {
      "text/plain": [
       "0"
      ]
     },
     "execution_count": 28,
     "metadata": {},
     "output_type": "execute_result"
    }
   ],
   "source": [
    "# дубликаты\n",
    "\n",
    "train_data.duplicated().sum()"
   ]
  },
  {
   "cell_type": "code",
   "execution_count": 29,
   "id": "5e9cf10d",
   "metadata": {},
   "outputs": [],
   "source": [
    "# удаление колонки date\n",
    "# удаление коррелирующих колонок списка train_cor\n",
    "# удаление колонок элемента sol\n",
    "\n",
    "train_data = train_data.drop(['date'], axis=1)\n",
    "train_data = train_data.drop(columns=train_cor, axis=1)\n",
    "train_data = train_data.drop(columns=sol, axis=1)"
   ]
  },
  {
   "cell_type": "code",
   "execution_count": 30,
   "id": "5a2e7027",
   "metadata": {},
   "outputs": [
    {
     "data": {
      "text/plain": [
       "final.output.concentrate_ag                   0\n",
       "final.output.concentrate_pb                   0\n",
       "final.output.concentrate_au                   0\n",
       "final.output.recovery                         0\n",
       "final.output.tail_ag                          0\n",
       "                                             ..\n",
       "secondary_cleaner.state.floatbank5_a_level    0\n",
       "secondary_cleaner.state.floatbank5_b_air      0\n",
       "secondary_cleaner.state.floatbank5_b_level    0\n",
       "secondary_cleaner.state.floatbank6_a_air      0\n",
       "secondary_cleaner.state.floatbank6_a_level    0\n",
       "Length: 70, dtype: int64"
      ]
     },
     "execution_count": 30,
     "metadata": {},
     "output_type": "execute_result"
    }
   ],
   "source": [
    "# пропуски данных - заполнение предыдущим значением\n",
    "\n",
    "train_data = fill_prev(train_data)\n",
    "train_data.isna().sum()"
   ]
  },
  {
   "cell_type": "code",
   "execution_count": 31,
   "id": "b4315470",
   "metadata": {},
   "outputs": [
    {
     "name": "stdout",
     "output_type": "stream",
     "text": [
      "Окончательный размер обучающего набора данных - (14149, 70)\n"
     ]
    }
   ],
   "source": [
    "print('Окончательный размер обучающего набора данных -', train_data.shape)"
   ]
  },
  {
   "cell_type": "markdown",
   "id": "ec53e5a9",
   "metadata": {},
   "source": [
    "## Тестовая выборка"
   ]
  },
  {
   "cell_type": "code",
   "execution_count": 32,
   "id": "44723005",
   "metadata": {},
   "outputs": [],
   "source": [
    "# изменим формат даты на datetime\n",
    "\n",
    "test_data['date'] = pd.to_datetime(test_data['date'], format='%Y-%m-%dT%H:%M:%S')"
   ]
  },
  {
   "cell_type": "code",
   "execution_count": 33,
   "id": "ec870efc",
   "metadata": {},
   "outputs": [
    {
     "data": {
      "text/plain": [
       "0"
      ]
     },
     "execution_count": 33,
     "metadata": {},
     "output_type": "execute_result"
    }
   ],
   "source": [
    "# дубликаты\n",
    "\n",
    "test_data.duplicated().sum()"
   ]
  },
  {
   "cell_type": "code",
   "execution_count": 34,
   "id": "b221c381",
   "metadata": {},
   "outputs": [],
   "source": [
    "# удаление коррелирующих колонок списка test_cor\n",
    "\n",
    "test_data = test_data.drop(columns=test_cor, axis=1)"
   ]
  },
  {
   "cell_type": "code",
   "execution_count": 35,
   "id": "12d8d3f0",
   "metadata": {},
   "outputs": [
    {
     "name": "stdout",
     "output_type": "stream",
     "text": [
      "rougher.input.feed_sol\n"
     ]
    }
   ],
   "source": [
    "# удалим колонки с элементом sol, как и в предыдущих датасетах\n",
    "\n",
    "for row in list(test_data.iloc[:0]):\n",
    "    if 'sol' in row:\n",
    "        print(row)\n",
    "        \n",
    "test_data = test_data.drop(['rougher.input.feed_sol'], axis=1)        "
   ]
  },
  {
   "cell_type": "code",
   "execution_count": 36,
   "id": "9debdfe9",
   "metadata": {},
   "outputs": [
    {
     "data": {
      "text/plain": [
       "date                                          0\n",
       "primary_cleaner.input.sulfate                 0\n",
       "primary_cleaner.input.depressant              0\n",
       "primary_cleaner.input.feed_size               0\n",
       "primary_cleaner.input.xanthate                0\n",
       "primary_cleaner.state.floatbank8_a_level      0\n",
       "primary_cleaner.state.floatbank8_b_level      0\n",
       "primary_cleaner.state.floatbank8_c_air        0\n",
       "primary_cleaner.state.floatbank8_c_level      0\n",
       "primary_cleaner.state.floatbank8_d_level      0\n",
       "rougher.input.feed_ag                         0\n",
       "rougher.input.feed_pb                         0\n",
       "rougher.input.feed_rate                       0\n",
       "rougher.input.feed_size                       0\n",
       "rougher.input.feed_au                         0\n",
       "rougher.input.floatbank10_sulfate             0\n",
       "rougher.input.floatbank10_xanthate            0\n",
       "rougher.input.floatbank11_sulfate             0\n",
       "rougher.input.floatbank11_xanthate            0\n",
       "rougher.state.floatbank10_a_air               0\n",
       "rougher.state.floatbank10_a_level             0\n",
       "rougher.state.floatbank10_e_air               0\n",
       "rougher.state.floatbank10_f_air               0\n",
       "secondary_cleaner.state.floatbank2_a_air      0\n",
       "secondary_cleaner.state.floatbank2_a_level    0\n",
       "secondary_cleaner.state.floatbank2_b_air      0\n",
       "secondary_cleaner.state.floatbank2_b_level    0\n",
       "secondary_cleaner.state.floatbank3_a_air      0\n",
       "secondary_cleaner.state.floatbank3_a_level    0\n",
       "secondary_cleaner.state.floatbank3_b_air      0\n",
       "secondary_cleaner.state.floatbank3_b_level    0\n",
       "secondary_cleaner.state.floatbank4_a_air      0\n",
       "secondary_cleaner.state.floatbank4_a_level    0\n",
       "secondary_cleaner.state.floatbank4_b_air      0\n",
       "secondary_cleaner.state.floatbank4_b_level    0\n",
       "secondary_cleaner.state.floatbank5_a_air      0\n",
       "secondary_cleaner.state.floatbank5_a_level    0\n",
       "secondary_cleaner.state.floatbank5_b_air      0\n",
       "secondary_cleaner.state.floatbank5_b_level    0\n",
       "secondary_cleaner.state.floatbank6_a_air      0\n",
       "secondary_cleaner.state.floatbank6_a_level    0\n",
       "dtype: int64"
      ]
     },
     "execution_count": 36,
     "metadata": {},
     "output_type": "execute_result"
    }
   ],
   "source": [
    "# пропуски данных - заполнение предыдущим значением\n",
    "\n",
    "test_data = fill_prev(test_data)\n",
    "test_data.isna().sum()"
   ]
  },
  {
   "cell_type": "code",
   "execution_count": 37,
   "id": "3f1e1e5f",
   "metadata": {},
   "outputs": [
    {
     "name": "stdout",
     "output_type": "stream",
     "text": [
      "Окончательный размер тестового набора данных - (5290, 41)\n"
     ]
    }
   ],
   "source": [
    "print('Окончательный размер тестового набора данных -', test_data.shape)"
   ]
  },
  {
   "cell_type": "markdown",
   "id": "6d256ad3",
   "metadata": {},
   "source": [
    "# Анализ данных"
   ]
  },
  {
   "cell_type": "markdown",
   "id": "4122c7f8",
   "metadata": {},
   "source": [
    "## Концентрация металлов полного набора данных "
   ]
  },
  {
   "cell_type": "markdown",
   "id": "59461ed9",
   "metadata": {},
   "source": [
    "Посмотрим, как меняется концентрация металлов (Au, Ag, Pb) на различных этапах очистки"
   ]
  },
  {
   "cell_type": "code",
   "execution_count": 38,
   "id": "2f9f159a",
   "metadata": {},
   "outputs": [],
   "source": [
    "# для удобства создадим списки по каждому металлу, чтобы затем по ним построить гистограммы\n",
    "\n",
    "#AU золото\n",
    "gold = ['rougher.input.feed_au', \n",
    "        'rougher.output.concentrate_au', \n",
    "        'primary_cleaner.output.concentrate_au', \n",
    "        'final.output.concentrate_au']\n",
    "\n",
    "#AG серебро\n",
    "silver = ['rougher.input.feed_ag', \n",
    "          'rougher.output.concentrate_ag', \n",
    "          'primary_cleaner.output.concentrate_ag',\n",
    "          'final.output.concentrate_ag'] \n",
    "\n",
    "#PB свинец\n",
    "plumbum = ['rougher.input.feed_pb', \n",
    "           'rougher.output.concentrate_pb',\n",
    "           'primary_cleaner.output.concentrate_pb',\n",
    "           'final.output.concentrate_pb']        "
   ]
  },
  {
   "cell_type": "markdown",
   "id": "f982da75",
   "metadata": {},
   "source": [
    "Построим гистограммы"
   ]
  },
  {
   "cell_type": "code",
   "execution_count": 39,
   "id": "21f4e35a",
   "metadata": {},
   "outputs": [
    {
     "data": {
      "text/plain": [
       "<matplotlib.legend.Legend at 0x2a0c890af10>"
      ]
     },
     "execution_count": 39,
     "metadata": {},
     "output_type": "execute_result"
    },
    {
     "data": {
      "image/png": "[encoded data removed]",
      "text/plain": [
       "<Figure size 1080x360 with 1 Axes>"
      ]
     },
     "metadata": {
      "needs_background": "light"
     },
     "output_type": "display_data"
    }
   ],
   "source": [
    "color=['gold', 'green', 'blue', 'darkviolet']\n",
    "\n",
    "full_data[gold].plot(kind='hist', \n",
    "                     title='Изменение концентрации золота',\n",
    "                     bins=50,\n",
    "                     figsize=(15,5),\n",
    "                     grid=True,\n",
    "                     alpha=0.6,\n",
    "                     color=color\n",
    "                    )\n",
    "plt.legend(['До процесса', 'После флотации', 'После первичной очистки', 'Финальный концентрат'], bbox_to_anchor=(1,1))"
   ]
  },
  {
   "cell_type": "code",
   "execution_count": 40,
   "id": "d3a86478",
   "metadata": {},
   "outputs": [
    {
     "data": {
      "text/plain": [
       "<matplotlib.legend.Legend at 0x2a0c88438e0>"
      ]
     },
     "execution_count": 40,
     "metadata": {},
     "output_type": "execute_result"
    },
    {
     "data": {
      "image/png": "[encoded data removed]",
      "text/plain": [
       "<Figure size 1080x360 with 1 Axes>"
      ]
     },
     "metadata": {
      "needs_background": "light"
     },
     "output_type": "display_data"
    }
   ],
   "source": [
    "color=['gold', 'green', 'blue', 'darkviolet']\n",
    "\n",
    "full_data[silver].plot(kind='hist', \n",
    "                     title='Изменение концентрации серебра',\n",
    "                     bins=50,\n",
    "                     figsize=(15,5),\n",
    "                     grid=True,\n",
    "                     alpha=0.5,\n",
    "                     color=color\n",
    "                    )\n",
    "plt.legend(['До процесса', 'После флотации', 'После первичной очистки', 'Финальный концентрат'])"
   ]
  },
  {
   "cell_type": "code",
   "execution_count": 41,
   "id": "24c0da78",
   "metadata": {},
   "outputs": [
    {
     "data": {
      "text/plain": [
       "<matplotlib.legend.Legend at 0x2a0c8852340>"
      ]
     },
     "execution_count": 41,
     "metadata": {},
     "output_type": "execute_result"
    },
    {
     "data": {
      "image/png": "[encoded data removed]",
      "text/plain": [
       "<Figure size 1080x360 with 1 Axes>"
      ]
     },
     "metadata": {
      "needs_background": "light"
     },
     "output_type": "display_data"
    }
   ],
   "source": [
    "color=['gold', 'green', 'blue', 'darkviolet']\n",
    "\n",
    "full_data[plumbum].plot(kind='hist', \n",
    "                     title='Изменение концентрации свинца',\n",
    "                     bins=50,\n",
    "                     figsize=(15,5),\n",
    "                     grid=True,\n",
    "                     alpha=0.5,\n",
    "                     color=color\n",
    "                    )\n",
    "plt.legend(['До процесса', 'После флотации', 'После первичной очистки', 'Финальный концентрат'])"
   ]
  },
  {
   "cell_type": "markdown",
   "id": "dbabcded",
   "metadata": {},
   "source": [
    "<div class=\"alert alert-block alert-info\">  \n",
    "    \n",
    "**Вывод**\n",
    "\n",
    "Оценка гистограмм изменения концентрации металлов говорит нам о следующем:    \n",
    " - Вполне ожидаемо, что концентрация золота стабильно увеличивается с каждым этапом обработки - от минимума, сосредоточенного в районе до 10 ед, до максимума - от 40 до 50 ед.\n",
    " - особенность серебра - после флотации этот металл повышает свою концентрацию почти до 15 ед, но затем стабильно снижает ее вплоть до 3-7 ед.\n",
    " - Свинец показывает в общем сходную динамику с золотом - его концентрация повышается, но не так выраженно и в более скромном масштабе - его максимум сосредоточен в районе 10 ед. Кроме того, повышение концентрации наблюдается только до этапа первичной очистки - затем она перестает расти."
   ]
  },
  {
   "cell_type": "markdown",
   "id": "1c5067e2",
   "metadata": {},
   "source": [
    "## Распределение размера гранул сырья обучающей и тестовой выборки "
   ]
  },
  {
   "cell_type": "markdown",
   "id": "86195f40",
   "metadata": {},
   "source": [
    "Посмотрим на распределение параметров сырья до первого этапа флотации - по основным метеллам"
   ]
  },
  {
   "cell_type": "code",
   "execution_count": 42,
   "id": "66e1e0ae",
   "metadata": {},
   "outputs": [],
   "source": [
    "# Напишем функцию, которая затем для каждого датасета выведет нужный нам список колонок\n",
    "\n",
    "def feed_size(data):\n",
    "    \n",
    "    list_row = []                          # список будет хранить список нужных колонок\n",
    "    for row in list(data.iloc[:0]):\n",
    "        if 'feed_size' in row:             # нужные нам колонки с размером гранул - \"feed_size\"\n",
    "            list_row.append(row)\n",
    "            \n",
    "    return list_row                        # возвращаем полученный список"
   ]
  },
  {
   "cell_type": "code",
   "execution_count": 43,
   "id": "18127b09",
   "metadata": {},
   "outputs": [],
   "source": [
    "train_row = feed_size(train_data)          # применяем функцию к обучающему набору данных\n",
    "        \n",
    "test_row = feed_size(test_data)            # применяем функцию к тестовому набору данны"
   ]
  },
  {
   "cell_type": "markdown",
   "id": "c932b6cf",
   "metadata": {},
   "source": [
    "Построим гистограммы"
   ]
  },
  {
   "cell_type": "code",
   "execution_count": 44,
   "id": "f3fa7aed",
   "metadata": {},
   "outputs": [
    {
     "data": {
      "text/plain": [
       "<matplotlib.legend.Legend at 0x2a0c8810a00>"
      ]
     },
     "execution_count": 44,
     "metadata": {},
     "output_type": "execute_result"
    },
    {
     "data": {
      "image/png": "[encoded data removed]",
      "text/plain": [
       "<Figure size 1080x288 with 1 Axes>"
      ]
     },
     "metadata": {
      "needs_background": "light"
     },
     "output_type": "display_data"
    }
   ],
   "source": [
    "color=['green', 'black']\n",
    "\n",
    "train_data[test_row].plot(kind='hist',\n",
    "                          title='Обучающая выборка',\n",
    "                          density=True,\n",
    "                          bins=50,\n",
    "                          grid=True,\n",
    "                          figsize=(15,4),\n",
    "                          alpha=0.5,\n",
    "                          color=color\n",
    "                         )\n",
    "\n",
    "plt.legend(['Перед первичной обработкой','Перед флотацией'], fontsize='x-large')"
   ]
  },
  {
   "cell_type": "code",
   "execution_count": 45,
   "id": "3f1b3aae",
   "metadata": {},
   "outputs": [
    {
     "data": {
      "text/plain": [
       "<matplotlib.legend.Legend at 0x2a0caaed910>"
      ]
     },
     "execution_count": 45,
     "metadata": {},
     "output_type": "execute_result"
    },
    {
     "data": {
      "image/png": "[encoded data removed]",
      "text/plain": [
       "<Figure size 1080x288 with 1 Axes>"
      ]
     },
     "metadata": {
      "needs_background": "light"
     },
     "output_type": "display_data"
    }
   ],
   "source": [
    "color=['green', 'black']\n",
    "\n",
    "test_data[test_row].plot(kind='hist',\n",
    "                           title='Тестовая выборка',\n",
    "                           density=True,\n",
    "                           bins=50,\n",
    "                           grid=True,\n",
    "                           figsize=(15,4),\n",
    "                           alpha=0.5,\n",
    "                           color=color\n",
    "                          )\n",
    "\n",
    "plt.legend(['Перед первичной обработкой','Перед флотацией'], fontsize='x-large')"
   ]
  },
  {
   "cell_type": "markdown",
   "id": "517980f9",
   "metadata": {},
   "source": [
    "<div class=\"alert alert-block alert-info\">\n",
    "    \n",
    "**Вывод**\n",
    "    \n",
    "Распределение гранул в обеих выборках имеет сходный характер - поэтому при обучении и тесте выводы не должны отличаться - оценка модели будет верной."
   ]
  },
  {
   "cell_type": "markdown",
   "id": "64c5ca8f",
   "metadata": {},
   "source": [
    "## Суммарная концентрация веществ на разных стадиях"
   ]
  },
  {
   "cell_type": "markdown",
   "id": "39a9700d",
   "metadata": {},
   "source": [
    "Посчитаем общую концентрацию веществ в сырье, черновом и финальном концентратах. "
   ]
  },
  {
   "cell_type": "code",
   "execution_count": 46,
   "id": "84285d39",
   "metadata": {},
   "outputs": [],
   "source": [
    "# сохраним нужные нам колонки для оценки в списки\n",
    "\n",
    "raw = ['rougher.input.feed_au', 'rougher.input.feed_ag', 'rougher.input.feed_pb']\n",
    "\n",
    "after_rougher = ['rougher.output.concentrate_au', 'rougher.output.concentrate_ag', 'rougher.output.concentrate_pb']\n",
    "\n",
    "final_product = ['final.output.concentrate_au', 'final.output.concentrate_ag', 'final.output.concentrate_pb']"
   ]
  },
  {
   "cell_type": "code",
   "execution_count": 47,
   "id": "4c254e87",
   "metadata": {},
   "outputs": [
    {
     "name": "stdout",
     "output_type": "stream",
     "text": [
      "Концентрация веществ в сырье\n",
      "\n",
      "rougher.input.feed_au    160684.665932\n",
      "rougher.input.feed_ag    170964.594230\n",
      "rougher.input.feed_pb     69690.675538\n",
      "dtype: float64\n"
     ]
    },
    {
     "data": {
      "text/plain": [
       "<matplotlib.legend.Legend at 0x2a0caba2160>"
      ]
     },
     "execution_count": 47,
     "metadata": {},
     "output_type": "execute_result"
    },
    {
     "data": {
      "image/png": "[encoded data removed]",
      "text/plain": [
       "<Figure size 1080x360 with 1 Axes>"
      ]
     },
     "metadata": {
      "needs_background": "light"
     },
     "output_type": "display_data"
    }
   ],
   "source": [
    "print('Концентрация веществ в сырье\\n')\n",
    "print(full_data[raw].sum())\n",
    "\n",
    "color=['orange', 'grey', 'brown']\n",
    "full_data[raw].plot(kind='hist',\n",
    "                    title='Концентрация веществ в сырье',\n",
    "                    bins=50,\n",
    "                    grid=True,\n",
    "                    figsize=(15,5),\n",
    "                    alpha=0.6,\n",
    "                    color=color\n",
    "                   )\n",
    "\n",
    "plt.legend(['Золото', 'Серебро', 'Свинец'], fontsize='x-large')"
   ]
  },
  {
   "cell_type": "code",
   "execution_count": 48,
   "id": "3d158910",
   "metadata": {},
   "outputs": [
    {
     "name": "stdout",
     "output_type": "stream",
     "text": [
      "Концентрация веществ в черновом концентрате\n",
      "\n",
      "rougher.output.concentrate_au    275055.963640\n",
      "rougher.output.concentrate_ag    166615.968436\n",
      "rougher.output.concentrate_pb    108445.785179\n",
      "dtype: float64\n"
     ]
    },
    {
     "data": {
      "text/plain": [
       "<matplotlib.legend.Legend at 0x2a0caeef400>"
      ]
     },
     "execution_count": 48,
     "metadata": {},
     "output_type": "execute_result"
    },
    {
     "data": {
      "image/png": "[encoded data removed]",
      "text/plain": [
       "<Figure size 1080x360 with 1 Axes>"
      ]
     },
     "metadata": {
      "needs_background": "light"
     },
     "output_type": "display_data"
    }
   ],
   "source": [
    "print('Концентрация веществ в черновом концентрате\\n')\n",
    "print(train_data[after_rougher].sum())\n",
    "\n",
    "color=['orange', 'grey', 'brown']\n",
    "full_data[after_rougher].plot(kind='hist',\n",
    "                              title='Концентрация веществ в черновом концентрате',\n",
    "                              bins=50,\n",
    "                              grid=True,\n",
    "                              figsize=(15,5),\n",
    "                              alpha=0.6,\n",
    "                              color=color\n",
    "                             )\n",
    "\n",
    "plt.legend(['Золото', 'Серебро', 'Свинец'], fontsize='x-large')"
   ]
  },
  {
   "cell_type": "code",
   "execution_count": 49,
   "id": "ec57371d",
   "metadata": {},
   "outputs": [
    {
     "name": "stdout",
     "output_type": "stream",
     "text": [
      "Концентрация веществ в финальном концентрате\n",
      "\n",
      "final.output.concentrate_au    622609.647646\n",
      "final.output.concentrate_ag     72753.039166\n",
      "final.output.concentrate_pb    143369.662930\n",
      "dtype: float64\n"
     ]
    },
    {
     "data": {
      "text/plain": [
       "<matplotlib.legend.Legend at 0x2a0cafebf40>"
      ]
     },
     "execution_count": 49,
     "metadata": {},
     "output_type": "execute_result"
    },
    {
     "data": {
      "image/png": "[encoded data removed]",
      "text/plain": [
       "<Figure size 1080x360 with 1 Axes>"
      ]
     },
     "metadata": {
      "needs_background": "light"
     },
     "output_type": "display_data"
    }
   ],
   "source": [
    "print('Концентрация веществ в финальном концентрате\\n')\n",
    "print(train_data[final_product].sum())\n",
    "\n",
    "color=['orange', 'grey', 'brown']\n",
    "full_data[final_product].plot(kind='hist',\n",
    "                              title='Концентрация веществ в финальном концентрате',\n",
    "                              bins=50,\n",
    "                              grid=True,\n",
    "                              figsize=(15,5),\n",
    "                              alpha=0.6,\n",
    "                              color=color\n",
    "                             )\n",
    "\n",
    "plt.legend(['Золото', 'Серебро', 'Свинец'], fontsize='x-large')"
   ]
  },
  {
   "cell_type": "markdown",
   "id": "d45325f7",
   "metadata": {},
   "source": [
    "<div class=\"alert alert-block alert-info\">\n",
    "\n",
    "**Вывод**\n",
    "\n",
    " - До начала процесса в сырье менее всего свинца и более всего золота и серебра (на одном уровне).\n",
    " - После этапа флотации свинец вновь на последнем месте по концентрации, серебро на втором, а золото на первом.\n",
    " - На распредлении концентрации металлов после окончания процесса сильно заметен отрыв золота; свинец чуть повышает свою концентрацию, серебро же напротив уменьшает почти до минимума."
   ]
  },
  {
   "cell_type": "markdown",
   "id": "070392ee",
   "metadata": {},
   "source": [
    "На гистограммах (особенно на черновом концентрате) замечены аномальные значения в районе нуля (в основном у свинца) - уберем их."
   ]
  },
  {
   "cell_type": "markdown",
   "id": "5b00c25e",
   "metadata": {},
   "source": [
    "**Концентрация веществ в сырье**"
   ]
  },
  {
   "cell_type": "code",
   "execution_count": 50,
   "id": "23ebb39b",
   "metadata": {},
   "outputs": [
    {
     "name": "stdout",
     "output_type": "stream",
     "text": [
      "1.533528    33\n",
      "1.019183    19\n",
      "0.125889    15\n",
      "1.352495    14\n",
      "3.909912    11\n",
      "            ..\n",
      "2.955855     1\n",
      "2.779557     1\n",
      "2.593901     1\n",
      "2.719459     1\n",
      "3.875727     1\n",
      "Name: rougher.input.feed_pb, Length: 19300, dtype: int64\n"
     ]
    }
   ],
   "source": [
    "# посмотрим на распределение значений \n",
    "print(full_data['rougher.input.feed_pb'].value_counts())\n",
    "\n",
    "# удалим аномальные\n",
    "full_data = full_data.loc[full_data['rougher.input.feed_pb']>0.2]"
   ]
  },
  {
   "cell_type": "code",
   "execution_count": 51,
   "id": "c220b108",
   "metadata": {},
   "outputs": [
    {
     "name": "stdout",
     "output_type": "stream",
     "text": [
      "1.533528    33\n",
      "1.019183    19\n",
      "1.352495    14\n",
      "3.909912    11\n",
      "4.226074     6\n",
      "            ..\n",
      "2.779557     1\n",
      "2.593901     1\n",
      "2.719459     1\n",
      "2.775837     1\n",
      "3.875727     1\n",
      "Name: rougher.input.feed_pb, Length: 19294, dtype: int64\n"
     ]
    }
   ],
   "source": [
    "# проверим результат\n",
    "print(full_data['rougher.input.feed_pb'].value_counts())"
   ]
  },
  {
   "cell_type": "markdown",
   "id": "df9d6ba9",
   "metadata": {},
   "source": [
    "**Концентрация веществ в черновом концентрате**"
   ]
  },
  {
   "cell_type": "code",
   "execution_count": 52,
   "id": "e3b35d5d",
   "metadata": {},
   "outputs": [
    {
     "name": "stdout",
     "output_type": "stream",
     "text": [
      "0.000000     394\n",
      "13.077148     11\n",
      "8.452148       8\n",
      "10.452148      7\n",
      "9.764648       6\n",
      "            ... \n",
      "6.506442       1\n",
      "6.390072       1\n",
      "6.217873       1\n",
      "6.104143       1\n",
      "10.702148      1\n",
      "Name: rougher.output.concentrate_pb, Length: 18933, dtype: int64\n"
     ]
    }
   ],
   "source": [
    "# посмотрим на распределение значений \n",
    "print(full_data['rougher.output.concentrate_pb'].value_counts())\n",
    "\n",
    "# удалим аномальные\n",
    "full_data = full_data.loc[full_data['rougher.output.concentrate_pb']!=0]"
   ]
  },
  {
   "cell_type": "code",
   "execution_count": 53,
   "id": "7c070399",
   "metadata": {},
   "outputs": [
    {
     "name": "stdout",
     "output_type": "stream",
     "text": [
      "13.077148    11\n",
      "8.452148      8\n",
      "10.452148     7\n",
      "7.944824      6\n",
      "8.264648      6\n",
      "             ..\n",
      "6.506442      1\n",
      "6.390072      1\n",
      "6.217873      1\n",
      "6.104143      1\n",
      "10.702148     1\n",
      "Name: rougher.output.concentrate_pb, Length: 18932, dtype: int64\n"
     ]
    }
   ],
   "source": [
    "# проверим результат \n",
    "print(full_data['rougher.output.concentrate_pb'].value_counts())"
   ]
  },
  {
   "cell_type": "markdown",
   "id": "b4b96848",
   "metadata": {},
   "source": [
    "**Концентрация веществ в финальном концентрате**"
   ]
  },
  {
   "cell_type": "code",
   "execution_count": 54,
   "id": "e6738949",
   "metadata": {},
   "outputs": [],
   "source": [
    "# удалим аномальные значения\n",
    "\n",
    "full_data = full_data.loc[full_data['final.output.concentrate_ag']!=0]\n",
    "full_data = full_data.loc[full_data['final.output.concentrate_pb']!=0]"
   ]
  },
  {
   "cell_type": "code",
   "execution_count": 55,
   "id": "f425db43",
   "metadata": {},
   "outputs": [
    {
     "name": "stdout",
     "output_type": "stream",
     "text": [
      "5.925380     11\n",
      "3.554558      7\n",
      "3.572025      6\n",
      "5.955403      5\n",
      "3.636006      3\n",
      "             ..\n",
      "6.029688      1\n",
      "10.426819     1\n",
      "8.148960      1\n",
      "5.245283      1\n",
      "3.598375      1\n",
      "Name: final.output.concentrate_ag, Length: 18891, dtype: int64\n"
     ]
    }
   ],
   "source": [
    "# проверим результат серебро \n",
    "print(full_data['final.output.concentrate_ag'].value_counts())"
   ]
  },
  {
   "cell_type": "code",
   "execution_count": 56,
   "id": "901c91fc",
   "metadata": {},
   "outputs": [
    {
     "name": "stdout",
     "output_type": "stream",
     "text": [
      "14.764648    11\n",
      "11.452148     8\n",
      "12.202148     7\n",
      "12.577148     6\n",
      "11.514648     4\n",
      "             ..\n",
      "3.214494      1\n",
      "9.185671      1\n",
      "7.346850      1\n",
      "8.176835      1\n",
      "11.737832     1\n",
      "Name: final.output.concentrate_pb, Length: 18861, dtype: int64\n"
     ]
    }
   ],
   "source": [
    "# проверим результат свинец\n",
    "print(full_data['final.output.concentrate_pb'].value_counts())"
   ]
  },
  {
   "cell_type": "markdown",
   "id": "20b0f31a",
   "metadata": {},
   "source": [
    "# Построение модели"
   ]
  },
  {
   "cell_type": "markdown",
   "id": "0fc5908b",
   "metadata": {},
   "source": [
    "## Функция качества "
   ]
  },
  {
   "cell_type": "markdown",
   "id": "316510c3",
   "metadata": {},
   "source": [
    "Напишем функцию для метрики качества sMAPE."
   ]
  },
  {
   "cell_type": "code",
   "execution_count": 57,
   "id": "f7cbaa1b",
   "metadata": {},
   "outputs": [],
   "source": [
    "def my_smape(y_true, y_pred): \n",
    "    \n",
    "    y_pred = [p if p!=0 else 0.0000001 for p in y_pred]    # проверка для деления на 0 \n",
    "    \n",
    "    y_true = np.array(y_true)\n",
    "    y_pred = np.array(y_pred)\n",
    "    \n",
    "    smape = sum(abs(y_true-y_pred) / ((abs(y_true) + abs(y_pred)) / 2))\n",
    "        \n",
    "    return smape*100/len(y_true)"
   ]
  },
  {
   "cell_type": "code",
   "execution_count": 58,
   "id": "4687345b",
   "metadata": {},
   "outputs": [],
   "source": [
    "def final_smape(smape_rougher, smape_final):\n",
    "    \n",
    "    final_smape = 0.25*smape_rougher + 0.75*smape_final    \n",
    "    return final_smape"
   ]
  },
  {
   "cell_type": "markdown",
   "id": "9b9253f3",
   "metadata": {},
   "source": [
    "## Подготовка к обучению"
   ]
  },
  {
   "cell_type": "markdown",
   "id": "1cf2edc0",
   "metadata": {},
   "source": [
    "Для оценки итоговой метрики качества нам нужны колонки ['rougher.output.recovery'] и ['final.output.recovery']. \n",
    "Используем их как целевой признак.\n",
    "\n",
    "Построим 2 модели - для предсказания этих целевых признаков двумя этапами. Учтем, что эффективность флотации не учитывает последующие этапы - первичную и вторичную очистку, поэтому для обучения и предсказания этого целевого признака откорректируем датасет."
   ]
  },
  {
   "cell_type": "markdown",
   "id": "bcac9529",
   "metadata": {},
   "source": [
    "**Флотация**"
   ]
  },
  {
   "cell_type": "code",
   "execution_count": 59,
   "id": "4e43dd8f",
   "metadata": {},
   "outputs": [],
   "source": [
    "rougher_row = [] # список хранит названия колонок флотации\n",
    "\n",
    "for row in list(train_data.iloc[:0]):\n",
    "    if 'rougher' in row:\n",
    "        rougher_row.append(row)\n",
    "        \n",
    "train_rougher = train_data[rougher_row]  # сохраняем колонки флотации обучающего набора в отдельный датасет      "
   ]
  },
  {
   "cell_type": "code",
   "execution_count": 60,
   "id": "52434684",
   "metadata": {},
   "outputs": [],
   "source": [
    "rougher_row = []\n",
    "\n",
    "for row in list(test_data.iloc[:0]):\n",
    "    if 'rougher' in row:\n",
    "        rougher_row.append(row)\n",
    "        \n",
    "test_rougher = test_data[rougher_row]   # сохраняем колонки флотации тестового набора в отдельный датасет      "
   ]
  },
  {
   "cell_type": "code",
   "execution_count": 61,
   "id": "64e23cf6",
   "metadata": {},
   "outputs": [],
   "source": [
    "# разделим флотацию на целевые признаки и признаки обучения\n",
    "\n",
    "X_rougher = train_rougher.drop(['rougher.output.recovery'], axis=1)\n",
    "y_rougher = train_rougher['rougher.output.recovery']"
   ]
  },
  {
   "cell_type": "code",
   "execution_count": 62,
   "id": "0d6cc436",
   "metadata": {},
   "outputs": [
    {
     "name": "stdout",
     "output_type": "stream",
     "text": [
      "<class 'pandas.core.frame.DataFrame'>\n",
      "RangeIndex: 14149 entries, 0 to 14148\n",
      "Data columns (total 25 columns):\n",
      " #   Column                                         Non-Null Count  Dtype  \n",
      "---  ------                                         --------------  -----  \n",
      " 0   rougher.calculation.sulfate_to_au_concentrate  14149 non-null  float64\n",
      " 1   rougher.calculation.au_pb_ratio                14149 non-null  float64\n",
      " 2   rougher.input.feed_ag                          14149 non-null  float64\n",
      " 3   rougher.input.feed_pb                          14149 non-null  float64\n",
      " 4   rougher.input.feed_rate                        14149 non-null  float64\n",
      " 5   rougher.input.feed_size                        14149 non-null  float64\n",
      " 6   rougher.input.feed_au                          14149 non-null  float64\n",
      " 7   rougher.input.floatbank10_sulfate              14149 non-null  float64\n",
      " 8   rougher.input.floatbank10_xanthate             14149 non-null  float64\n",
      " 9   rougher.input.floatbank11_sulfate              14149 non-null  float64\n",
      " 10  rougher.input.floatbank11_xanthate             14149 non-null  float64\n",
      " 11  rougher.output.concentrate_ag                  14149 non-null  float64\n",
      " 12  rougher.output.concentrate_pb                  14149 non-null  float64\n",
      " 13  rougher.output.concentrate_sol                 14149 non-null  float64\n",
      " 14  rougher.output.concentrate_au                  14149 non-null  float64\n",
      " 15  rougher.output.tail_ag                         14149 non-null  float64\n",
      " 16  rougher.output.tail_pb                         14149 non-null  float64\n",
      " 17  rougher.output.tail_au                         14149 non-null  float64\n",
      " 18  rougher.state.floatbank10_a_air                14149 non-null  float64\n",
      " 19  rougher.state.floatbank10_a_level              14149 non-null  float64\n",
      " 20  rougher.state.floatbank10_b_air                14149 non-null  float64\n",
      " 21  rougher.state.floatbank10_c_air                14149 non-null  float64\n",
      " 22  rougher.state.floatbank10_d_air                14149 non-null  float64\n",
      " 23  rougher.state.floatbank10_e_air                14149 non-null  float64\n",
      " 24  rougher.state.floatbank10_f_air                14149 non-null  float64\n",
      "dtypes: float64(25)\n",
      "memory usage: 2.7 MB\n"
     ]
    }
   ],
   "source": [
    "# проверим признаки обучения\n",
    "\n",
    "X_rougher.info()"
   ]
  },
  {
   "cell_type": "markdown",
   "id": "5d85b87a",
   "metadata": {},
   "source": [
    "**Размер датасетов**"
   ]
  },
  {
   "cell_type": "markdown",
   "id": "3219e861",
   "metadata": {},
   "source": [
    "Учтем, что для того, чтобы использовать обученную модель на тесте features обучающей выборки должны совпадать с features тестовой выборки"
   ]
  },
  {
   "cell_type": "code",
   "execution_count": 63,
   "id": "0ab48dfc",
   "metadata": {},
   "outputs": [
    {
     "name": "stdout",
     "output_type": "stream",
     "text": [
      "Колонки тестовой флотации - 13\n",
      "Колонки обучающего набора - 25\n"
     ]
    }
   ],
   "source": [
    "print('Колонки тестовой флотации -', test_rougher.shape[1])\n",
    "print('Колонки обучающего набора -', X_rougher.shape[1])"
   ]
  },
  {
   "cell_type": "markdown",
   "id": "99a338a1",
   "metadata": {},
   "source": [
    "Необходимо убрать колонки обучающего набора, не совпадающие с тестовым - в идеальном варианте число колонок должно стать равным, т.к удалять колонки из тестового набора данных "
   ]
  },
  {
   "cell_type": "code",
   "execution_count": 64,
   "id": "79461687",
   "metadata": {},
   "outputs": [
    {
     "name": "stdout",
     "output_type": "stream",
     "text": [
      "Количество уникальных колонок X_rougher - 12\n"
     ]
    }
   ],
   "source": [
    "delete_train = [] # список уникальных колонок обучающего набора этапа флотации\n",
    "\n",
    "for row in list(X_rougher.iloc[:0]):\n",
    "    if row not in list(test_rougher.iloc[:0]):\n",
    "        delete_train.append(row)\n",
    "        \n",
    "print('Количество уникальных колонок X_rougher -', len(delete_train))  "
   ]
  },
  {
   "cell_type": "code",
   "execution_count": 65,
   "id": "65684bfa",
   "metadata": {},
   "outputs": [],
   "source": [
    "# удалим колонки\n",
    "\n",
    "X_rougher = X_rougher.drop(columns=delete_train, axis=1)"
   ]
  },
  {
   "cell_type": "code",
   "execution_count": 66,
   "id": "2802f37f",
   "metadata": {},
   "outputs": [
    {
     "name": "stdout",
     "output_type": "stream",
     "text": [
      "Колонки тестовой флотации - 13\n",
      "Колонки обучающего набора - 13\n"
     ]
    }
   ],
   "source": [
    "# проверим совпадение размеров\n",
    "\n",
    "print('Колонки тестовой флотации -', test_rougher.shape[1])\n",
    "print('Колонки обучающего набора -', X_rougher.shape[1])"
   ]
  },
  {
   "cell_type": "markdown",
   "id": "1336e896",
   "metadata": {},
   "source": [
    "**Финальный результат**"
   ]
  },
  {
   "cell_type": "code",
   "execution_count": 67,
   "id": "0d6773ba",
   "metadata": {},
   "outputs": [],
   "source": [
    "# разделим на целевые признаки и признаки обучения\n",
    "\n",
    "X_final = train_data.drop(['final.output.recovery'], axis=1)\n",
    "y_final = train_data['final.output.recovery']"
   ]
  },
  {
   "cell_type": "markdown",
   "id": "70343f78",
   "metadata": {},
   "source": [
    "Не забудем о необходимости совпадения размеров датасетов"
   ]
  },
  {
   "cell_type": "code",
   "execution_count": 68,
   "id": "c100d2e9",
   "metadata": {},
   "outputs": [
    {
     "name": "stdout",
     "output_type": "stream",
     "text": [
      "Колонки тестового набора - 41\n",
      "Колонки обучающего набора - 69\n"
     ]
    }
   ],
   "source": [
    "print('Колонки тестового набора -', test_data.shape[1])\n",
    "print('Колонки обучающего набора -', X_final.shape[1])"
   ]
  },
  {
   "cell_type": "code",
   "execution_count": 69,
   "id": "d1ed9c7e",
   "metadata": {},
   "outputs": [
    {
     "name": "stdout",
     "output_type": "stream",
     "text": [
      "Количество уникальных колонок X_final - 32\n"
     ]
    }
   ],
   "source": [
    "delete_train = [] # список уникальных колонок обучающего набора \n",
    "\n",
    "for row in list(X_final.iloc[:0]):\n",
    "    if row not in list(test_data.iloc[:0]):\n",
    "        delete_train.append(row)\n",
    "        \n",
    "print('Количество уникальных колонок X_final -', len(delete_train))         "
   ]
  },
  {
   "cell_type": "code",
   "execution_count": 70,
   "id": "3d95b84c",
   "metadata": {},
   "outputs": [],
   "source": [
    "# удаляем колонки\n",
    "\n",
    "X_final = X_final.drop(columns=delete_train, axis=1)"
   ]
  },
  {
   "cell_type": "code",
   "execution_count": 71,
   "id": "91e9767e",
   "metadata": {},
   "outputs": [
    {
     "name": "stdout",
     "output_type": "stream",
     "text": [
      "Количество уникальных колонок тестового набора - 4\n"
     ]
    }
   ],
   "source": [
    "delete_test = [] # список уникальных колонок тестового набора этапа флотации\n",
    "\n",
    "for row in list(test_data.iloc[:0]):\n",
    "    if row not in list(X_final.iloc[:0]):\n",
    "        delete_test.append(row)\n",
    "        \n",
    "print('Количество уникальных колонок тестового набора -', len(delete_test)) "
   ]
  },
  {
   "cell_type": "code",
   "execution_count": 72,
   "id": "35865df6",
   "metadata": {},
   "outputs": [
    {
     "data": {
      "text/plain": [
       "['date',\n",
       " 'primary_cleaner.state.floatbank8_a_level',\n",
       " 'primary_cleaner.state.floatbank8_b_level',\n",
       " 'primary_cleaner.state.floatbank8_c_level']"
      ]
     },
     "execution_count": 72,
     "metadata": {},
     "output_type": "execute_result"
    }
   ],
   "source": [
    "# оценим, какие уникальные колонки тестовых данных выделяются\n",
    "\n",
    "delete_test"
   ]
  },
  {
   "cell_type": "code",
   "execution_count": 73,
   "id": "37ebc64c",
   "metadata": {},
   "outputs": [],
   "source": [
    "# удалим колонки, кроме date, и сохраним полученный набор в новую переменную test_final\n",
    "\n",
    "test_final = test_data.drop(columns=['primary_cleaner.state.floatbank8_a_level',\n",
    "                                     'primary_cleaner.state.floatbank8_b_level',\n",
    "                                     'primary_cleaner.state.floatbank8_c_level'\n",
    "                                    ], axis=1)"
   ]
  },
  {
   "cell_type": "code",
   "execution_count": 74,
   "id": "cf971de9",
   "metadata": {},
   "outputs": [
    {
     "name": "stdout",
     "output_type": "stream",
     "text": [
      "Колонки тестового набора - 38\n",
      "Колонки обучающего набора - 37\n"
     ]
    }
   ],
   "source": [
    "# проверим совпадение размеров\n",
    "\n",
    "print('Колонки тестового набора -', test_final.shape[1])\n",
    "print('Колонки обучающего набора -', X_final.shape[1])"
   ]
  },
  {
   "cell_type": "markdown",
   "id": "760b631f",
   "metadata": {},
   "source": [
    "## Обучение  "
   ]
  },
  {
   "cell_type": "markdown",
   "id": "3e889441",
   "metadata": {},
   "source": [
    "Напишем функцию, которая позволит нам пройтись по моделям, используя кросс-валидацию, и выведет нужные нам метрики качества для вывода лучшей модели."
   ]
  },
  {
   "cell_type": "code",
   "execution_count": 75,
   "id": "e21b3b76",
   "metadata": {},
   "outputs": [],
   "source": [
    "# зададим модели\n",
    "\n",
    "lr = LinearRegression()\n",
    "rfr = RandomForestRegressor()\n",
    "dtr = DecisionTreeRegressor()"
   ]
  },
  {
   "cell_type": "code",
   "execution_count": 76,
   "id": "89a4846a",
   "metadata": {},
   "outputs": [],
   "source": [
    "# скорвертируем свою функцию для использования ее в кросс-валидации\n",
    "# не забудем, что для нашей метрики лучшим реузльтатом будет самый низкий показатель\n",
    "\n",
    "my_func = make_scorer(my_smape, greater_is_better=False)"
   ]
  },
  {
   "cell_type": "code",
   "execution_count": 77,
   "id": "ae3f8b4d",
   "metadata": {},
   "outputs": [],
   "source": [
    "# напишем функцию для кросс-валидационного обучения\n",
    "# функция примет модель, ее параметры, а выведет лучшие параметры модели и лучшую метрику Smape \n",
    "\n",
    "def training(model, params, X, y):  \n",
    "    \n",
    "    grid = GridSearchCV(model, param_grid=params, cv=5, scoring=my_func)\n",
    "    grid.fit(X, y)\n",
    "    print('Модель', model)\n",
    "    print('Лучшие параметры модели', grid.best_params_)\n",
    "    print('Лучшая метрика модели', abs(grid.best_score_))   "
   ]
  },
  {
   "cell_type": "markdown",
   "id": "ac4f21cc",
   "metadata": {},
   "source": [
    "**Обучим на данных по этапу флотации**\n",
    "\n",
    "Целевая метрика - 'rougher.output.recovery'"
   ]
  },
  {
   "cell_type": "code",
   "execution_count": 78,
   "id": "07077efe",
   "metadata": {},
   "outputs": [
    {
     "name": "stdout",
     "output_type": "stream",
     "text": [
      "Модель LinearRegression()\n",
      "Лучшие параметры модели {}\n",
      "Лучшая метрика модели 13.090090981865254\n"
     ]
    }
   ],
   "source": [
    "training(lr, {}, X_rougher, y_rougher)"
   ]
  },
  {
   "cell_type": "code",
   "execution_count": 79,
   "id": "58c11e8c",
   "metadata": {},
   "outputs": [
    {
     "name": "stdout",
     "output_type": "stream",
     "text": [
      "Модель DecisionTreeRegressor()\n",
      "Лучшие параметры модели {'max_depth': 3, 'min_samples_leaf': 4, 'min_samples_split': 4}\n",
      "Лучшая метрика модели 11.79814822227176\n"
     ]
    }
   ],
   "source": [
    "dtr_parametrs = {'max_depth': range (1,53,2),\n",
    "                 'min_samples_leaf': range (1,5),\n",
    "                 'min_samples_split': range (2,8,2) \n",
    "                }\n",
    "\n",
    "training(dtr, dtr_parametrs, X_rougher, y_rougher)"
   ]
  },
  {
   "cell_type": "code",
   "execution_count": 80,
   "id": "e247a471",
   "metadata": {},
   "outputs": [
    {
     "name": "stdout",
     "output_type": "stream",
     "text": [
      "Модель RandomForestRegressor()\n",
      "Лучшие параметры модели {'max_depth': 3, 'min_samples_leaf': 1, 'min_samples_split': 4, 'n_estimators': 10}\n",
      "Лучшая метрика модели 11.24659549896933\n"
     ]
    }
   ],
   "source": [
    "rfr_parametrs = {'n_estimators': range (10, 50, 10),\n",
    "             'max_depth': range (1,5,2),\n",
    "             'min_samples_leaf': range (1,3),\n",
    "             'min_samples_split': range (2,8,2) \n",
    "            }\n",
    "\n",
    "training(rfr, rfr_parametrs, X_rougher, y_rougher)"
   ]
  },
  {
   "cell_type": "markdown",
   "id": "f1f5007e",
   "metadata": {},
   "source": [
    "**Обучим на данных всего процесса**\n",
    "\n",
    "Целевая метрика - 'final.output.recovery'"
   ]
  },
  {
   "cell_type": "code",
   "execution_count": 81,
   "id": "028666e5",
   "metadata": {},
   "outputs": [
    {
     "name": "stdout",
     "output_type": "stream",
     "text": [
      "Модель LinearRegression()\n",
      "Лучшие параметры модели {}\n",
      "Лучшая метрика модели 11.364078266891738\n"
     ]
    }
   ],
   "source": [
    "training(lr, {}, X_final, y_final)"
   ]
  },
  {
   "cell_type": "code",
   "execution_count": 82,
   "id": "3bb5008b",
   "metadata": {},
   "outputs": [
    {
     "name": "stdout",
     "output_type": "stream",
     "text": [
      "Модель DecisionTreeRegressor()\n",
      "Лучшие параметры модели {'max_depth': 3, 'min_samples_leaf': 4, 'min_samples_split': 4}\n",
      "Лучшая метрика модели 10.7607034753383\n"
     ]
    }
   ],
   "source": [
    "# скорректируем диапазон подбора параметров, исходя из предыдущего обучения\n",
    "\n",
    "dtr_parametrs = {'max_depth': range (1,6,2),\n",
    "                 'min_samples_leaf': range (1,5),\n",
    "                 'min_samples_split': range (2,6,2) \n",
    "                }\n",
    "\n",
    "training(dtr, dtr_parametrs, X_final, y_final)"
   ]
  },
  {
   "cell_type": "code",
   "execution_count": 83,
   "id": "173c5f74",
   "metadata": {},
   "outputs": [
    {
     "name": "stdout",
     "output_type": "stream",
     "text": [
      "Модель RandomForestRegressor()\n",
      "Лучшие параметры модели {'max_depth': 3, 'min_samples_leaf': 2, 'min_samples_split': 2, 'n_estimators': 20}\n",
      "Лучшая метрика модели 10.305919765519727\n"
     ]
    }
   ],
   "source": [
    "rfr_parametrs = {'n_estimators': range (10, 30, 10),\n",
    "             'max_depth': range (1,5,2),\n",
    "             'min_samples_leaf': range (1,3),\n",
    "             'min_samples_split': range (2,4,2) \n",
    "            }\n",
    "\n",
    "training(rfr, rfr_parametrs, X_final, y_final)"
   ]
  },
  {
   "cell_type": "markdown",
   "id": "cdaf140e",
   "metadata": {},
   "source": [
    "**Вывод**\n",
    "\n",
    "Лучший Smape на обоих этапах показал Случайный лес и параметрами 'n_estimators': 20, 'max_depth': 3, 'min_samples_leaf': 1, 'min_samples_split': 2. Его будем использовать для теста"
   ]
  },
  {
   "cell_type": "markdown",
   "id": "fe459f4d",
   "metadata": {},
   "source": [
    "## Тест"
   ]
  },
  {
   "cell_type": "markdown",
   "id": "413dbe33",
   "metadata": {},
   "source": [
    "Используем функцию df.merge для отбора нужных нам строк целевых признаков 'rougher.output.recovery' и 'final.output.recovery'. Добавим только те значения колонок, у которых дата совпадает с датой тестовой выборки."
   ]
  },
  {
   "cell_type": "code",
   "execution_count": 84,
   "id": "4fdacb4c",
   "metadata": {},
   "outputs": [],
   "source": [
    "# создаем таблицу, куда добавяляем только не значения целевых признаков, которые совпадают по дате с тестовой выборкой\n",
    "\n",
    "test = test_final.merge(full_data[['date', 'rougher.output.recovery', 'final.output.recovery']] , on='date', how='inner')"
   ]
  },
  {
   "cell_type": "code",
   "execution_count": 85,
   "id": "f4a88d67",
   "metadata": {},
   "outputs": [
    {
     "data": {
      "text/html": [
       "<div>\n",
       "<style scoped>\n",
       "    .dataframe tbody tr th:only-of-type {\n",
       "        vertical-align: middle;\n",
       "    }\n",
       "\n",
       "    .dataframe tbody tr th {\n",
       "        vertical-align: top;\n",
       "    }\n",
       "\n",
       "    .dataframe thead th {\n",
       "        text-align: right;\n",
       "    }\n",
       "</style>\n",
       "<table border=\"1\" class=\"dataframe\">\n",
       "  <thead>\n",
       "    <tr style=\"text-align: right;\">\n",
       "      <th></th>\n",
       "      <th>date</th>\n",
       "      <th>primary_cleaner.input.sulfate</th>\n",
       "      <th>primary_cleaner.input.depressant</th>\n",
       "      <th>primary_cleaner.input.feed_size</th>\n",
       "      <th>primary_cleaner.input.xanthate</th>\n",
       "      <th>primary_cleaner.state.floatbank8_c_air</th>\n",
       "      <th>primary_cleaner.state.floatbank8_d_level</th>\n",
       "      <th>rougher.input.feed_ag</th>\n",
       "      <th>rougher.input.feed_pb</th>\n",
       "      <th>rougher.input.feed_rate</th>\n",
       "      <th>...</th>\n",
       "      <th>secondary_cleaner.state.floatbank4_b_air</th>\n",
       "      <th>secondary_cleaner.state.floatbank4_b_level</th>\n",
       "      <th>secondary_cleaner.state.floatbank5_a_air</th>\n",
       "      <th>secondary_cleaner.state.floatbank5_a_level</th>\n",
       "      <th>secondary_cleaner.state.floatbank5_b_air</th>\n",
       "      <th>secondary_cleaner.state.floatbank5_b_level</th>\n",
       "      <th>secondary_cleaner.state.floatbank6_a_air</th>\n",
       "      <th>secondary_cleaner.state.floatbank6_a_level</th>\n",
       "      <th>rougher.output.recovery</th>\n",
       "      <th>final.output.recovery</th>\n",
       "    </tr>\n",
       "  </thead>\n",
       "  <tbody>\n",
       "    <tr>\n",
       "      <th>0</th>\n",
       "      <td>2016-09-01 00:59:59</td>\n",
       "      <td>210.800909</td>\n",
       "      <td>14.993118</td>\n",
       "      <td>8.080000</td>\n",
       "      <td>1.005021</td>\n",
       "      <td>1400.102998</td>\n",
       "      <td>-499.485144</td>\n",
       "      <td>13.128569</td>\n",
       "      <td>5.636710</td>\n",
       "      <td>489.793655</td>\n",
       "      <td>...</td>\n",
       "      <td>8.016656</td>\n",
       "      <td>-501.289139</td>\n",
       "      <td>7.946562</td>\n",
       "      <td>-432.317850</td>\n",
       "      <td>4.872511</td>\n",
       "      <td>-500.037437</td>\n",
       "      <td>26.705889</td>\n",
       "      <td>-499.709414</td>\n",
       "      <td>89.993421</td>\n",
       "      <td>70.273583</td>\n",
       "    </tr>\n",
       "    <tr>\n",
       "      <th>1</th>\n",
       "      <td>2016-09-01 01:59:59</td>\n",
       "      <td>215.392455</td>\n",
       "      <td>14.987471</td>\n",
       "      <td>8.080000</td>\n",
       "      <td>0.990469</td>\n",
       "      <td>1396.151033</td>\n",
       "      <td>-500.416324</td>\n",
       "      <td>13.036280</td>\n",
       "      <td>5.526065</td>\n",
       "      <td>490.104534</td>\n",
       "      <td>...</td>\n",
       "      <td>8.130979</td>\n",
       "      <td>-499.634209</td>\n",
       "      <td>7.958270</td>\n",
       "      <td>-525.839648</td>\n",
       "      <td>4.878850</td>\n",
       "      <td>-500.162375</td>\n",
       "      <td>25.019940</td>\n",
       "      <td>-499.819438</td>\n",
       "      <td>88.089657</td>\n",
       "      <td>68.910432</td>\n",
       "    </tr>\n",
       "    <tr>\n",
       "      <th>2</th>\n",
       "      <td>2016-09-01 02:59:59</td>\n",
       "      <td>215.259946</td>\n",
       "      <td>12.884934</td>\n",
       "      <td>7.786667</td>\n",
       "      <td>0.996043</td>\n",
       "      <td>1398.075709</td>\n",
       "      <td>-499.715479</td>\n",
       "      <td>13.138412</td>\n",
       "      <td>5.426561</td>\n",
       "      <td>489.617969</td>\n",
       "      <td>...</td>\n",
       "      <td>8.096893</td>\n",
       "      <td>-500.827423</td>\n",
       "      <td>8.071056</td>\n",
       "      <td>-500.801673</td>\n",
       "      <td>4.905125</td>\n",
       "      <td>-499.828510</td>\n",
       "      <td>24.994862</td>\n",
       "      <td>-500.622559</td>\n",
       "      <td>88.412756</td>\n",
       "      <td>68.143213</td>\n",
       "    </tr>\n",
       "    <tr>\n",
       "      <th>3</th>\n",
       "      <td>2016-09-01 03:59:59</td>\n",
       "      <td>215.336236</td>\n",
       "      <td>12.006805</td>\n",
       "      <td>7.640000</td>\n",
       "      <td>0.863514</td>\n",
       "      <td>1400.129303</td>\n",
       "      <td>-501.038738</td>\n",
       "      <td>12.400507</td>\n",
       "      <td>5.114758</td>\n",
       "      <td>476.618130</td>\n",
       "      <td>...</td>\n",
       "      <td>8.074946</td>\n",
       "      <td>-499.474407</td>\n",
       "      <td>7.897085</td>\n",
       "      <td>-500.868509</td>\n",
       "      <td>4.931400</td>\n",
       "      <td>-499.963623</td>\n",
       "      <td>24.948919</td>\n",
       "      <td>-498.709987</td>\n",
       "      <td>87.360133</td>\n",
       "      <td>67.776393</td>\n",
       "    </tr>\n",
       "    <tr>\n",
       "      <th>4</th>\n",
       "      <td>2016-09-01 04:59:59</td>\n",
       "      <td>199.099327</td>\n",
       "      <td>10.682530</td>\n",
       "      <td>7.530000</td>\n",
       "      <td>0.805575</td>\n",
       "      <td>1402.172226</td>\n",
       "      <td>-499.374053</td>\n",
       "      <td>11.327427</td>\n",
       "      <td>4.767383</td>\n",
       "      <td>488.248117</td>\n",
       "      <td>...</td>\n",
       "      <td>8.054678</td>\n",
       "      <td>-500.397500</td>\n",
       "      <td>8.107890</td>\n",
       "      <td>-509.526725</td>\n",
       "      <td>4.957674</td>\n",
       "      <td>-500.360026</td>\n",
       "      <td>25.003331</td>\n",
       "      <td>-500.856333</td>\n",
       "      <td>83.236367</td>\n",
       "      <td>61.467078</td>\n",
       "    </tr>\n",
       "  </tbody>\n",
       "</table>\n",
       "<p>5 rows × 40 columns</p>\n",
       "</div>"
      ],
      "text/plain": [
       "                 date  primary_cleaner.input.sulfate  \\\n",
       "0 2016-09-01 00:59:59                     210.800909   \n",
       "1 2016-09-01 01:59:59                     215.392455   \n",
       "2 2016-09-01 02:59:59                     215.259946   \n",
       "3 2016-09-01 03:59:59                     215.336236   \n",
       "4 2016-09-01 04:59:59                     199.099327   \n",
       "\n",
       "   primary_cleaner.input.depressant  primary_cleaner.input.feed_size  \\\n",
       "0                         14.993118                         8.080000   \n",
       "1                         14.987471                         8.080000   \n",
       "2                         12.884934                         7.786667   \n",
       "3                         12.006805                         7.640000   \n",
       "4                         10.682530                         7.530000   \n",
       "\n",
       "   primary_cleaner.input.xanthate  primary_cleaner.state.floatbank8_c_air  \\\n",
       "0                        1.005021                             1400.102998   \n",
       "1                        0.990469                             1396.151033   \n",
       "2                        0.996043                             1398.075709   \n",
       "3                        0.863514                             1400.129303   \n",
       "4                        0.805575                             1402.172226   \n",
       "\n",
       "   primary_cleaner.state.floatbank8_d_level  rougher.input.feed_ag  \\\n",
       "0                               -499.485144              13.128569   \n",
       "1                               -500.416324              13.036280   \n",
       "2                               -499.715479              13.138412   \n",
       "3                               -501.038738              12.400507   \n",
       "4                               -499.374053              11.327427   \n",
       "\n",
       "   rougher.input.feed_pb  rougher.input.feed_rate  ...  \\\n",
       "0               5.636710               489.793655  ...   \n",
       "1               5.526065               490.104534  ...   \n",
       "2               5.426561               489.617969  ...   \n",
       "3               5.114758               476.618130  ...   \n",
       "4               4.767383               488.248117  ...   \n",
       "\n",
       "   secondary_cleaner.state.floatbank4_b_air  \\\n",
       "0                                  8.016656   \n",
       "1                                  8.130979   \n",
       "2                                  8.096893   \n",
       "3                                  8.074946   \n",
       "4                                  8.054678   \n",
       "\n",
       "   secondary_cleaner.state.floatbank4_b_level  \\\n",
       "0                                 -501.289139   \n",
       "1                                 -499.634209   \n",
       "2                                 -500.827423   \n",
       "3                                 -499.474407   \n",
       "4                                 -500.397500   \n",
       "\n",
       "   secondary_cleaner.state.floatbank5_a_air  \\\n",
       "0                                  7.946562   \n",
       "1                                  7.958270   \n",
       "2                                  8.071056   \n",
       "3                                  7.897085   \n",
       "4                                  8.107890   \n",
       "\n",
       "   secondary_cleaner.state.floatbank5_a_level  \\\n",
       "0                                 -432.317850   \n",
       "1                                 -525.839648   \n",
       "2                                 -500.801673   \n",
       "3                                 -500.868509   \n",
       "4                                 -509.526725   \n",
       "\n",
       "   secondary_cleaner.state.floatbank5_b_air  \\\n",
       "0                                  4.872511   \n",
       "1                                  4.878850   \n",
       "2                                  4.905125   \n",
       "3                                  4.931400   \n",
       "4                                  4.957674   \n",
       "\n",
       "   secondary_cleaner.state.floatbank5_b_level  \\\n",
       "0                                 -500.037437   \n",
       "1                                 -500.162375   \n",
       "2                                 -499.828510   \n",
       "3                                 -499.963623   \n",
       "4                                 -500.360026   \n",
       "\n",
       "   secondary_cleaner.state.floatbank6_a_air  \\\n",
       "0                                 26.705889   \n",
       "1                                 25.019940   \n",
       "2                                 24.994862   \n",
       "3                                 24.948919   \n",
       "4                                 25.003331   \n",
       "\n",
       "   secondary_cleaner.state.floatbank6_a_level  rougher.output.recovery  \\\n",
       "0                                 -499.709414                89.993421   \n",
       "1                                 -499.819438                88.089657   \n",
       "2                                 -500.622559                88.412756   \n",
       "3                                 -498.709987                87.360133   \n",
       "4                                 -500.856333                83.236367   \n",
       "\n",
       "   final.output.recovery  \n",
       "0              70.273583  \n",
       "1              68.910432  \n",
       "2              68.143213  \n",
       "3              67.776393  \n",
       "4              61.467078  \n",
       "\n",
       "[5 rows x 40 columns]"
      ]
     },
     "execution_count": 85,
     "metadata": {},
     "output_type": "execute_result"
    }
   ],
   "source": [
    "# проверим результат\n",
    "\n",
    "test.head()"
   ]
  },
  {
   "cell_type": "code",
   "execution_count": 86,
   "id": "e83e74ec",
   "metadata": {},
   "outputs": [],
   "source": [
    "# сохраним целевые признаки в отдельные переменные\n",
    "\n",
    "y_rougher_test = test['rougher.output.recovery']\n",
    "y_final_test = test['final.output.recovery']\n",
    "\n",
    "# из тестового набора данных удалим колонку с датой\n",
    "\n",
    "test_final = test.drop(['date', 'rougher.output.recovery', 'final.output.recovery'], axis=1)"
   ]
  },
  {
   "cell_type": "markdown",
   "id": "7e893297",
   "metadata": {},
   "source": [
    "Проведем тест на модели, показавшей лучшие результаты на кросс-валидации."
   ]
  },
  {
   "cell_type": "markdown",
   "id": "41ac73f5",
   "metadata": {},
   "source": [
    "RandomForestRegressor - 'n_estimators': 20, 'max_depth': 3, 'min_samples_leaf': 1, 'min_samples_split': 2."
   ]
  },
  {
   "cell_type": "markdown",
   "id": "efcb097b",
   "metadata": {},
   "source": [
    "<div class=\"alert alert-block alert-warning\">\n",
    "    \n",
    "Так как на этапе построения диаграмм суммарной концентрации веществ были удалены аномальные значения длина массива уменьшилась - нужна дополнительная проверка, которая приравнивает ранее полученный массив для этапа флотации с длиной целевых метрик"
   ]
  },
  {
   "cell_type": "code",
   "execution_count": 87,
   "id": "ed2118bc",
   "metadata": {},
   "outputs": [],
   "source": [
    "test_rougher = test_rougher[:len(test_final)]"
   ]
  },
  {
   "cell_type": "code",
   "execution_count": 88,
   "id": "11c9f552",
   "metadata": {},
   "outputs": [],
   "source": [
    "# обучим модель и выведем предсказания этапа флотации\n",
    "best_rfr = RandomForestRegressor(n_estimators=20, max_depth=3)\n",
    "best_rfr.fit(X_rougher[:len(test_rougher)], y_rougher[:len(test_rougher)])\n",
    "test_rougher_pred = best_rfr.predict(test_rougher)\n",
    "\n",
    "# обучим модель и выведем предсказания всего процесса\n",
    "best_rfr.fit(X_final, y_final)\n",
    "test_final_pred = best_rfr.predict(test_final)\n",
    "\n",
    "# выведем нашу целевую метрику каждого целевого признака и общую\n",
    "smape_rougher = my_smape(y_rougher_test, test_rougher_pred)\n",
    "smape_final = my_smape(y_final_test, test_final_pred)\n",
    "smape = final_smape(smape_rougher, smape_final)"
   ]
  },
  {
   "cell_type": "code",
   "execution_count": 89,
   "id": "b90d5cce",
   "metadata": {},
   "outputs": [
    {
     "name": "stdout",
     "output_type": "stream",
     "text": [
      "Итоги теста модели\n",
      "sMAPE этапа флотации 8.137969606662699\n",
      "sMAPE всего процесса 7.8673819874000746\n",
      "Итоговый sMAPE 7.9350288922157315\n"
     ]
    }
   ],
   "source": [
    "print('Итоги теста модели')\n",
    "print('sMAPE этапа флотации', smape_rougher)\n",
    "print('sMAPE всего процесса', smape_final)\n",
    "print('Итоговый sMAPE', smape)"
   ]
  },
  {
   "cell_type": "markdown",
   "id": "f1a1bebe",
   "metadata": {},
   "source": [
    "# Общий вывод"
   ]
  },
  {
   "cell_type": "markdown",
   "id": "7895d482",
   "metadata": {},
   "source": [
    "\n",
    "<div class=\"alert alert-block alert-danger\">\n",
    "\n",
    " - Были проверены расчеты эффективности - эффективность флотации расчитана правильно - медиана и статистики полученных значений равны значениям таблицы (погрешность минимальна); средняя абсолютная ошибка также минимальна (формально равна нулю)\n",
    "\n",
    " - Распределение гранул в обеих выборках имеет сходный характер - поэтому при обучении и тесте выводы не должны отличаться - оценка модели будет верной.\n",
    " \n",
    "Оценка гистограмм изменения концентрации металлов привела к следующим выводам:    \n",
    " - Вполне ожидаемо концентрация золота стабильно увеличивается с каждым этапом обработки - от минимума, сосредоточенного в районе до 10 ед, до максимума - от 40 до 50 ед.\n",
    " - особенность серебра - после флотации этот металл повышает свою концентрацию почти до 15 ед, но затем стабильно снижает ее вплоть до 3-7 ед.\n",
    " - Свинец показывает в общем сходную динамику с золотом - его концентрация повышается, но не так выраженно и в более скромном масштабе - его максимум сосредоточен в районе 10 ед. Кроме того, повышение концентрации наблюдается только до этапа первичной очистки - затем она перестает расти. \n",
    "\n",
    "По суммарной концентрации веществ на разных стадиях можно сделать следующие выводы:\n",
    " - До начала процесса в сырье менее всего свинца и более всего золота и серебра (на одном уровне).\n",
    " - После этапа флотации свинец вновь на последнем месте по концентрации, серебро на втором, а золото на первом.\n",
    " - На распредлении концентрации металлов после окончания процесса сильно заметен отрыв золота; свинец чуть повышает свою концентрацию, серебро же напротив уменьшает почти до минимума\n",
    " - Замечены и удалены аномальные значения в районе нуля\n",
    " \n",
    "Для этапа обучения модели стоит отметить:\n",
    " - Лучший результат качества показала модель Случайного Леса - причем на тесте она показала результат почти в 2 раза лучше, чем на обучении - итоговый показатель теста **7.935** против **10.54** обучения."
   ]
  }
 ],
 "metadata": {
  "ExecuteTimeLog": [
   {
    "duration": 12457,
    "start_time": "2023-01-09T05:38:10.543Z"
   },
   {
    "duration": 1687,
    "start_time": "2023-01-09T05:38:23.002Z"
   },
   {
    "duration": 15,
    "start_time": "2023-01-09T05:38:24.691Z"
   },
   {
    "duration": 4,
    "start_time": "2023-01-09T05:38:24.708Z"
   },
   {
    "duration": 22,
    "start_time": "2023-01-09T05:38:24.713Z"
   },
   {
    "duration": 12,
    "start_time": "2023-01-09T05:38:24.736Z"
   },
   {
    "duration": 373,
    "start_time": "2023-01-09T05:38:24.749Z"
   },
   {
    "duration": 5,
    "start_time": "2023-01-09T05:38:25.124Z"
   },
   {
    "duration": 42824,
    "start_time": "2023-01-09T05:38:25.130Z"
   },
   {
    "duration": 58200,
    "start_time": "2023-01-09T05:39:07.957Z"
   },
   {
    "duration": 3655,
    "start_time": "2023-01-09T05:40:06.158Z"
   },
   {
    "duration": 4,
    "start_time": "2023-01-09T05:40:09.815Z"
   },
   {
    "duration": 15,
    "start_time": "2023-01-09T05:40:09.821Z"
   },
   {
    "duration": 37,
    "start_time": "2023-01-09T05:40:09.837Z"
   },
   {
    "duration": 27,
    "start_time": "2023-01-09T05:40:09.876Z"
   },
   {
    "duration": 35,
    "start_time": "2023-01-09T05:40:09.905Z"
   },
   {
    "duration": 15,
    "start_time": "2023-01-09T05:40:09.942Z"
   },
   {
    "duration": 28,
    "start_time": "2023-01-09T05:40:09.959Z"
   },
   {
    "duration": 121,
    "start_time": "2023-01-09T05:40:09.989Z"
   },
   {
    "duration": 9,
    "start_time": "2023-01-09T05:40:10.112Z"
   },
   {
    "duration": 21,
    "start_time": "2023-01-09T05:40:10.123Z"
   },
   {
    "duration": 22,
    "start_time": "2023-01-09T05:40:10.146Z"
   },
   {
    "duration": 14,
    "start_time": "2023-01-09T05:40:10.170Z"
   },
   {
    "duration": 31,
    "start_time": "2023-01-09T05:40:10.186Z"
   },
   {
    "duration": 36,
    "start_time": "2023-01-09T05:40:10.219Z"
   },
   {
    "duration": 15,
    "start_time": "2023-01-09T05:40:10.257Z"
   },
   {
    "duration": 20,
    "start_time": "2023-01-09T05:40:10.274Z"
   },
   {
    "duration": 142,
    "start_time": "2023-01-09T05:40:10.299Z"
   },
   {
    "duration": 13,
    "start_time": "2023-01-09T05:40:10.443Z"
   },
   {
    "duration": 56,
    "start_time": "2023-01-09T05:40:10.458Z"
   },
   {
    "duration": 3,
    "start_time": "2023-01-09T05:40:10.516Z"
   },
   {
    "duration": 33,
    "start_time": "2023-01-09T05:40:10.521Z"
   },
   {
    "duration": 51,
    "start_time": "2023-01-09T05:40:10.556Z"
   },
   {
    "duration": 5,
    "start_time": "2023-01-09T05:40:10.608Z"
   },
   {
    "duration": 32,
    "start_time": "2023-01-09T05:40:10.614Z"
   },
   {
    "duration": 35,
    "start_time": "2023-01-09T05:40:10.648Z"
   },
   {
    "duration": 9,
    "start_time": "2023-01-09T05:40:10.685Z"
   },
   {
    "duration": 30,
    "start_time": "2023-01-09T05:40:10.696Z"
   },
   {
    "duration": 383,
    "start_time": "2023-01-09T05:40:10.728Z"
   },
   {
    "duration": 465,
    "start_time": "2023-01-09T05:40:11.112Z"
   },
   {
    "duration": 416,
    "start_time": "2023-01-09T05:40:11.579Z"
   },
   {
    "duration": 4,
    "start_time": "2023-01-09T05:40:11.996Z"
   },
   {
    "duration": 9,
    "start_time": "2023-01-09T05:40:12.001Z"
   },
   {
    "duration": 252,
    "start_time": "2023-01-09T05:40:12.012Z"
   },
   {
    "duration": 245,
    "start_time": "2023-01-09T05:40:12.266Z"
   },
   {
    "duration": 3,
    "start_time": "2023-01-09T05:40:12.512Z"
   },
   {
    "duration": 324,
    "start_time": "2023-01-09T05:40:12.517Z"
   },
   {
    "duration": 315,
    "start_time": "2023-01-09T05:40:12.842Z"
   },
   {
    "duration": 298,
    "start_time": "2023-01-09T05:40:13.158Z"
   },
   {
    "duration": 4,
    "start_time": "2023-01-09T05:40:13.458Z"
   },
   {
    "duration": 15,
    "start_time": "2023-01-09T05:40:13.463Z"
   },
   {
    "duration": 13,
    "start_time": "2023-01-09T05:40:13.480Z"
   },
   {
    "duration": 14,
    "start_time": "2023-01-09T05:40:13.494Z"
   },
   {
    "duration": 22,
    "start_time": "2023-01-09T05:40:13.510Z"
   },
   {
    "duration": 36,
    "start_time": "2023-01-09T05:40:13.534Z"
   },
   {
    "duration": 17,
    "start_time": "2023-01-09T05:40:13.572Z"
   },
   {
    "duration": 15,
    "start_time": "2023-01-09T05:40:13.591Z"
   },
   {
    "duration": 19,
    "start_time": "2023-01-09T05:40:13.607Z"
   },
   {
    "duration": 15,
    "start_time": "2023-01-09T05:40:13.628Z"
   },
   {
    "duration": 22,
    "start_time": "2023-01-09T05:40:13.645Z"
   },
   {
    "duration": 13,
    "start_time": "2023-01-09T05:40:13.669Z"
   },
   {
    "duration": 26,
    "start_time": "2023-01-09T05:40:13.684Z"
   },
   {
    "duration": 14,
    "start_time": "2023-01-09T05:40:13.712Z"
   },
   {
    "duration": 20,
    "start_time": "2023-01-09T05:40:13.728Z"
   },
   {
    "duration": 18,
    "start_time": "2023-01-09T05:40:13.749Z"
   },
   {
    "duration": 6,
    "start_time": "2023-01-09T05:40:13.769Z"
   },
   {
    "duration": 11,
    "start_time": "2023-01-09T05:40:13.776Z"
   },
   {
    "duration": 9,
    "start_time": "2023-01-09T05:40:13.789Z"
   },
   {
    "duration": 3,
    "start_time": "2023-01-09T05:40:13.912Z"
   },
   {
    "duration": 28,
    "start_time": "2023-01-09T05:40:13.917Z"
   },
   {
    "duration": 835,
    "start_time": "2023-01-09T05:40:13.947Z"
   },
   {
    "duration": 267936,
    "start_time": "2023-01-09T05:40:14.784Z"
   },
   {
    "duration": 123965,
    "start_time": "2023-01-09T05:44:42.722Z"
   },
   {
    "duration": 1692,
    "start_time": "2023-01-09T05:46:46.688Z"
   },
   {
    "duration": 15292,
    "start_time": "2023-01-09T05:46:48.382Z"
   },
   {
    "duration": 33376,
    "start_time": "2023-01-09T05:47:03.679Z"
   },
   {
    "duration": 11,
    "start_time": "2023-01-09T05:47:37.057Z"
   },
   {
    "duration": 58,
    "start_time": "2023-01-09T05:47:37.078Z"
   },
   {
    "duration": 27,
    "start_time": "2023-01-09T05:47:37.138Z"
   },
   {
    "duration": 2277,
    "start_time": "2023-01-09T05:47:37.166Z"
   },
   {
    "duration": 4,
    "start_time": "2023-01-09T05:47:39.445Z"
   },
   {
    "duration": 28,
    "start_time": "2023-01-09T05:50:55.510Z"
   },
   {
    "duration": 4,
    "start_time": "2023-01-09T05:51:19.903Z"
   },
   {
    "duration": 1410,
    "start_time": "2023-01-09T05:51:23.553Z"
   },
   {
    "duration": 4,
    "start_time": "2023-01-09T05:51:25.381Z"
   },
   {
    "duration": 5,
    "start_time": "2023-01-09T05:51:29.880Z"
   },
   {
    "duration": 4,
    "start_time": "2023-01-09T05:51:33.108Z"
   },
   {
    "duration": 4,
    "start_time": "2023-01-09T05:51:44.372Z"
   },
   {
    "duration": 4,
    "start_time": "2023-01-09T05:51:53.300Z"
   },
   {
    "duration": 27,
    "start_time": "2023-01-09T05:52:03.966Z"
   },
   {
    "duration": 27,
    "start_time": "2023-01-09T05:52:28.477Z"
   },
   {
    "duration": 6,
    "start_time": "2023-01-09T05:52:38.259Z"
   }
  ],
  "kernelspec": {
   "display_name": "Python 3 (ipykernel)",
   "language": "python",
   "name": "python3"
  },
  "language_info": {
   "codemirror_mode": {
    "name": "ipython",
    "version": 3
   },
   "file_extension": ".py",
   "mimetype": "text/x-python",
   "name": "python",
   "nbconvert_exporter": "python",
   "pygments_lexer": "ipython3",
   "version": "3.9.12"
  },
  "toc": {
   "base_numbering": 1,
   "nav_menu": {},
   "number_sections": true,
   "sideBar": true,
   "skip_h1_title": false,
   "title_cell": "Table of Contents",
   "title_sidebar": "Contents",
   "toc_cell": false,
   "toc_position": {
    "height": "calc(100% - 180px)",
    "left": "10px",
    "top": "150px",
    "width": "248.825px"
   },
   "toc_section_display": true,
   "toc_window_display": true
  }
 },
 "nbformat": 4,
 "nbformat_minor": 5
}
